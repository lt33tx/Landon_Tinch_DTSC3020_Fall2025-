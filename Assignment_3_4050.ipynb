{
  "cells": [
    {
      "cell_type": "markdown",
      "metadata": {
        "id": "view-in-github",
        "colab_type": "text"
      },
      "source": [
        "<a href=\"https://colab.research.google.com/github/lt33tx/Landon_Tinch_DTSC3020_Fall2025-/blob/main/Assignment_3_4050.ipynb\" target=\"_parent\"><img src=\"https://colab.research.google.com/assets/colab-badge.svg\" alt=\"Open In Colab\"/></a>"
      ]
    },
    {
      "cell_type": "markdown",
      "id": "a616b478",
      "metadata": {
        "id": "a616b478"
      },
      "source": [
        "\n",
        "# Assignment: Functions and Visualizations\n",
        "\n",
        "\n",
        "We will use the following datasets:\n",
        "- `directory.csv`: Contains data on people or items along with their identifying details, such as names, contact information, and organizational roles, like a digital phonebook or roster.\n",
        "- `books.csv`: Contains information about books.\n",
        "\n",
        "### Learning Objectives:\n",
        "- Defining and using Python functions.\n",
        "- Applying transformations with `apply`.\n",
        "- Performing data analysis using Pandas.\n",
        "- Creating histograms to visualize data.\n",
        "\n",
        "### Instructions:\n",
        "Run the setup cell below before beginning the questions.\n"
      ]
    },
    {
      "cell_type": "code",
      "execution_count": 27,
      "id": "2f57342e",
      "metadata": {
        "id": "2f57342e",
        "colab": {
          "base_uri": "https://localhost:8080/"
        },
        "outputId": "335bb27b-24e5-4b6b-fd3f-9fd4f74817d0"
      },
      "outputs": [
        {
          "output_type": "execute_result",
          "data": {
            "text/plain": [
              "(       Brand  Store Number        Store Name Ownership Type  \\\n",
              " 0  Starbucks  47370-257954     Meritxell, 96       Licensed   \n",
              " 1  Starbucks  22331-212325  Ajman Drive Thru       Licensed   \n",
              " 2  Starbucks  47089-256771         Dana Mall       Licensed   \n",
              " 3  Starbucks  22126-218024        Twofour 54       Licensed   \n",
              " 4  Starbucks  17127-178586      Al Ain Tower       Licensed   \n",
              " \n",
              "                     Street Address              City State/Province Country  \\\n",
              " 0                Av. Meritxell, 96  Andorra la Vella              7      AD   \n",
              " 1             1 Street 69, Al Jarf             Ajman             AJ      AE   \n",
              " 2     Sheikh Khalifa Bin Zayed St.             Ajman             AJ      AE   \n",
              " 3                  Al Salam Street         Abu Dhabi             AZ      AE   \n",
              " 4  Khaldiya Area, Abu Dhabi Island         Abu Dhabi             AZ      AE   \n",
              " \n",
              "   Postcode Phone Number                 Timezone  Longitude  Latitude  \n",
              " 0    AD500    376818720  GMT+1:00 Europe/Andorra       1.53     42.51  \n",
              " 1      NaN          NaN     GMT+04:00 Asia/Dubai      55.47     25.42  \n",
              " 2      NaN          NaN     GMT+04:00 Asia/Dubai      55.47     25.39  \n",
              " 3      NaN          NaN     GMT+04:00 Asia/Dubai      54.38     24.48  \n",
              " 4      NaN          NaN     GMT+04:00 Asia/Dubai      54.54     24.51  ,\n",
              "    bookID                                              title  \\\n",
              " 0       1  Harry Potter and the Half-Blood Prince (Harry ...   \n",
              " 1       2  Harry Potter and the Order of the Phoenix (Har...   \n",
              " 2       4  Harry Potter and the Chamber of Secrets (Harry...   \n",
              " 3       5  Harry Potter and the Prisoner of Azkaban (Harr...   \n",
              " 4       8  Harry Potter Boxed Set  Books 1-5 (Harry Potte...   \n",
              " \n",
              "                       authors  average_rating        isbn         isbn13  \\\n",
              " 0  J.K. Rowling/Mary GrandPré            4.57  0439785960  9780439785969   \n",
              " 1  J.K. Rowling/Mary GrandPré            4.49  0439358078  9780439358071   \n",
              " 2                J.K. Rowling            4.42  0439554896  9780439554893   \n",
              " 3  J.K. Rowling/Mary GrandPré            4.56  043965548X  9780439655484   \n",
              " 4  J.K. Rowling/Mary GrandPré            4.78  0439682584  9780439682589   \n",
              " \n",
              "   language_code    num_pages  ratings_count  text_reviews_count  \\\n",
              " 0           eng          652        2095690               27591   \n",
              " 1           eng          870        2153167               29221   \n",
              " 2           eng          352           6333                 244   \n",
              " 3           eng          435        2339585               36325   \n",
              " 4           eng         2690          41428                 164   \n",
              " \n",
              "   publication_date        publisher  \n",
              " 0        9/16/2006  Scholastic Inc.  \n",
              " 1         9/1/2004  Scholastic Inc.  \n",
              " 2        11/1/2003       Scholastic  \n",
              " 3         5/1/2004  Scholastic Inc.  \n",
              " 4        9/13/2004       Scholastic  )"
            ]
          },
          "metadata": {},
          "execution_count": 27
        }
      ],
      "source": [
        "import numpy as np\n",
        "import pandas as pd\n",
        "import matplotlib.pyplot as plt\n",
        "\n",
        "# Load datasets\n",
        "directory = pd.read_csv(\"directory.csv\")\n",
        "books = pd.read_csv(\"books.csv\", on_bad_lines='skip')\n",
        "\n",
        "# Display first few rows of each dataset\n",
        "directory.head(), books.head()"
      ]
    },
    {
      "cell_type": "markdown",
      "id": "e78e0ec6",
      "metadata": {
        "id": "e78e0ec6"
      },
      "source": [
        "## Question 1: Defining Functions"
      ]
    },
    {
      "cell_type": "markdown",
      "id": "3e4709c3",
      "metadata": {
        "id": "3e4709c3"
      },
      "source": [
        "### 1.1 Counting Unique Cities"
      ]
    },
    {
      "cell_type": "markdown",
      "id": "ce988aa6",
      "metadata": {
        "id": "ce988aa6"
      },
      "source": [
        "Define a function `count_unique_cities` that returns the number of unique cities in the `directory` dataset."
      ]
    },
    {
      "cell_type": "code",
      "execution_count": 28,
      "id": "6d656b88",
      "metadata": {
        "id": "6d656b88",
        "colab": {
          "base_uri": "https://localhost:8080/"
        },
        "outputId": "019821be-046c-4cb7-9943-d8cd575d19cb"
      },
      "outputs": [
        {
          "output_type": "stream",
          "name": "stdout",
          "text": [
            "5469\n"
          ]
        }
      ],
      "source": [
        "def count_unique_cities(df):\n",
        "    return df['City'].nunique()\n",
        "\n",
        "print(count_unique_cities(directory))"
      ]
    },
    {
      "cell_type": "markdown",
      "id": "044d32d8",
      "metadata": {
        "id": "044d32d8"
      },
      "source": [
        "### 1.2 Extracting Top Rated Books"
      ]
    },
    {
      "cell_type": "markdown",
      "id": "f8a3454a",
      "metadata": {
        "id": "f8a3454a"
      },
      "source": [
        "Define a function `top_rated_books` that returns books with a rating above 4.5 in the `books` dataset."
      ]
    },
    {
      "cell_type": "code",
      "execution_count": 29,
      "id": "cf3f12d4",
      "metadata": {
        "id": "cf3f12d4",
        "colab": {
          "base_uri": "https://localhost:8080/"
        },
        "outputId": "bfc3482b-0c8c-4063-94f7-a63570e8e4eb"
      },
      "outputs": [
        {
          "output_type": "stream",
          "name": "stdout",
          "text": [
            "       bookID                                              title  \\\n",
            "0           1  Harry Potter and the Half-Blood Prince (Harry ...   \n",
            "3           5  Harry Potter and the Prisoner of Azkaban (Harr...   \n",
            "4           8  Harry Potter Boxed Set  Books 1-5 (Harry Potte...   \n",
            "6          10       Harry Potter Collection (Harry Potter  #1-6)   \n",
            "21         30  J.R.R. Tolkien 4-Book Boxed Set: The Hobbit an...   \n",
            "...       ...                                                ...   \n",
            "10675   43509  Harry Potter and the Goblet of Fire (Harry Pot...   \n",
            "10790   44030                                       Looking East   \n",
            "10918   44734  Fullmetal Alchemist  Vol. 6 (Fullmetal Alchemi...   \n",
            "10937   44826  The Price of the Ticket: Collected Nonfiction ...   \n",
            "10940   44849  Code Check Electrical: An Illustrated Guide to...   \n",
            "\n",
            "                                                authors  average_rating  \\\n",
            "0                            J.K. Rowling/Mary GrandPré            4.57   \n",
            "3                            J.K. Rowling/Mary GrandPré            4.56   \n",
            "4                            J.K. Rowling/Mary GrandPré            4.78   \n",
            "6                                          J.K. Rowling            4.73   \n",
            "21                                       J.R.R. Tolkien            4.59   \n",
            "...                                                 ...             ...   \n",
            "10675                                      J.K. Rowling            4.56   \n",
            "10790                                     Steve McCurry            4.55   \n",
            "10918                     Hiromu Arakawa/Akira Watanabe            4.58   \n",
            "10937                                     James Baldwin            4.70   \n",
            "10940  Michael      Casey/Redwood Kardon/Douglas Hansen            4.67   \n",
            "\n",
            "             isbn         isbn13 language_code    num_pages  ratings_count  \\\n",
            "0      0439785960  9780439785969           eng          652        2095690   \n",
            "3      043965548X  9780439655484           eng          435        2339585   \n",
            "4      0439682584  9780439682589           eng         2690          41428   \n",
            "6      0439827604  9780439827607           eng         3342          28242   \n",
            "21     0345538374  9780345538376           eng         1728         101233   \n",
            "...           ...            ...           ...          ...            ...   \n",
            "10675  074754624X  9780747546245           eng          636          18754   \n",
            "10790  0714846376  9780714846378           eng          124             83   \n",
            "10918  1421503190  9781421503196           eng          200          10052   \n",
            "10937  0312643063  9780312643065           eng          712            404   \n",
            "10940  1561587389  9781561587384           eng           29              3   \n",
            "\n",
            "       text_reviews_count publication_date           publisher  \n",
            "0                   27591        9/16/2006     Scholastic Inc.  \n",
            "3                   36325         5/1/2004     Scholastic Inc.  \n",
            "4                     164        9/13/2004          Scholastic  \n",
            "6                     808        9/12/2005          Scholastic  \n",
            "21                   1550        9/25/2012    Ballantine Books  \n",
            "...                   ...              ...                 ...  \n",
            "10675                 906         7/8/2000          Bloomsbury  \n",
            "10790                   8         9/1/2006       Phaidon Press  \n",
            "10918                 201        3/21/2006       VIZ Media LLC  \n",
            "10937                  30        9/15/1985  St. Martin's Press  \n",
            "10940                   0       11/11/2005       Taunton Press  \n",
            "\n",
            "[230 rows x 12 columns]\n"
          ]
        }
      ],
      "source": [
        "def top_rated_books(df):\n",
        "    return df[df['average_rating'] >= 4.5]\n",
        "\n",
        "top_books = top_rated_books(books)\n",
        "print(top_books)\n",
        "\n"
      ]
    },
    {
      "cell_type": "markdown",
      "id": "cae36454",
      "metadata": {
        "id": "cae36454"
      },
      "source": [
        "### 1.3  Finding the Longest Book\n",
        "\n",
        "\n"
      ]
    },
    {
      "cell_type": "markdown",
      "id": "d2da61ec",
      "metadata": {
        "id": "d2da61ec"
      },
      "source": [
        "Define a function `longest_book` that returns the book with the highest page count from the `books` dataset."
      ]
    },
    {
      "cell_type": "code",
      "execution_count": 30,
      "id": "15a352d1",
      "metadata": {
        "id": "15a352d1",
        "colab": {
          "base_uri": "https://localhost:8080/"
        },
        "outputId": "4de27429-876c-47d1-e660-38a69418c6c4"
      },
      "outputs": [
        {
          "output_type": "stream",
          "name": "stdout",
          "text": [
            "bookID                                                         24520\n",
            "title                 The Complete Aubrey/Maturin Novels (5 Volumes)\n",
            "authors                                              Patrick O'Brian\n",
            "average_rating                                                   4.7\n",
            "isbn                                                      039306011X\n",
            "isbn13                                                 9780393060119\n",
            "language_code                                                    eng\n",
            "num_pages                                                       6576\n",
            "ratings_count                                                   1338\n",
            "text_reviews_count                                                81\n",
            "publication_date                                          10/17/2004\n",
            "publisher                                      W. W. Norton  Company\n",
            "Name: 6497, dtype: object\n"
          ]
        }
      ],
      "source": [
        "books.columns = books.columns.str.strip()\n",
        "\n",
        "def longest_book(df):\n",
        "    return df.loc[df['num_pages'].idxmax()]\n",
        "\n",
        "print(longest_book(books))\n"
      ]
    },
    {
      "cell_type": "markdown",
      "id": "beb9f0f0",
      "metadata": {
        "id": "beb9f0f0"
      },
      "source": [
        "### 1.4 Counting Businesses by State"
      ]
    },
    {
      "cell_type": "markdown",
      "id": "eb893a3c",
      "metadata": {
        "id": "eb893a3c"
      },
      "source": [
        "Define a function `count_businesses_by_state` that returns a dictionary where keys are states and values are the number of businesses in each state from the `directory` dataset."
      ]
    },
    {
      "cell_type": "code",
      "execution_count": 31,
      "id": "1916f3e9",
      "metadata": {
        "id": "1916f3e9",
        "colab": {
          "base_uri": "https://localhost:8080/"
        },
        "outputId": "4064001f-d1d2-46b3-eca7-c807a237eb64"
      },
      "outputs": [
        {
          "output_type": "stream",
          "name": "stdout",
          "text": [
            "{'0': 89, '1': 193, '10': 275, '11': 706, '12': 145, '13': 363, '14': 180, '15': 26, '16': 28, '17': 13, '18': 8, '19': 10, '2': 68, '20': 27, '21': 72, '22': 44, '23': 100, '24': 19, '25': 13, '26': 117, '27': 151, '28': 82, '29': 47, '3': 56, '30': 45, '31': 580, '32': 359, '33': 329, '34': 206, '35': 99, '36': 16, '37': 84, '38': 11, '39': 4, '4': 51, '40': 79, '41': 341, '42': 105, '43': 56, '44': 359, '45': 39, '46': 31, '47': 55, '48': 41, '49': 13, '5': 36, '50': 51, '51': 104, '52': 10, '53': 24, '54': 2, '55': 3, '57': 1, '6': 68, '60': 1, '61': 42, '62': 3, '63': 3, '64': 2, '65': 1, '7': 62, '70': 1, '73': 2, '74': 1, '77': 3, '8': 43, '80': 1, '81': 4, '83': 12, '84': 12, '9': 38, '90': 2, '91': 162, '92': 13, 'A': 4, 'A1': 20, 'AB': 304, 'AG': 3, 'AGU': 5, 'AH': 10, 'AJ': 2, 'AK': 49, 'AL': 85, 'ALA': 6, 'ALX': 1, 'AM': 16, 'AN': 16, 'AP': 6, 'AR': 55, 'ARE': 5, 'AST': 2, 'AW': 3, 'AZ': 536, 'B': 40, 'BA': 37, 'BB': 2, 'BC': 416, 'BCN': 18, 'BCS': 8, 'BE': 30, 'BI': 13, 'BL': 3, 'BM': 3, 'BS': 5, 'BT': 11, 'BU': 16, 'BW': 21, 'BY': 18, 'C': 119, 'CA': 2821, 'CAJ': 1, 'CAM': 2, 'CHA': 7, 'CHH': 10, 'CHP': 2, 'CJ': 2, 'CL': 2, 'CO': 481, 'COA': 8, 'COL': 2, 'CT': 145, 'CUS': 2, 'CW': 3, 'CYI': 6, 'CYQ': 1, 'D': 1, 'DA': 18, 'DC': 102, 'DE': 25, 'DIF': 229, 'DJ': 1, 'DK': 4, 'DL': 18, 'DS': 8, 'DU': 82, 'DUR': 2, 'ENG': 787, 'ES': 3, 'F': 1, 'FA': 8, 'FL': 694, 'FR': 2, 'FU': 2, 'GA': 326, 'GE': 10, 'GR': 2, 'GRO': 7, 'GT': 3, 'GU': 7, 'GUA': 21, 'HA': 28, 'HB': 4, 'HE': 26, 'HH': 13, 'HI': 99, 'HID': 2, 'HN': 6, 'HR': 6, 'HSQ': 4, 'HSZ': 17, 'HUA': 3, 'IA': 89, 'IB': 2, 'ICA': 1, 'ID': 67, 'IL': 575, 'ILA': 4, 'IN': 221, 'IR': 1, 'IS': 2, 'J': 86, 'JA': 3, 'JAL': 50, 'JB': 14, 'JI': 10, 'JK': 77, 'JM': 4, 'JS': 3, 'JT': 2, 'JUN': 1, 'JW': 103, 'K': 1, 'KA': 14, 'KDA': 3, 'KEE': 3, 'KHH': 34, 'KI': 1, 'KS': 94, 'KU': 53, 'KY': 116, 'L': 57, 'LA': 84, 'LAL': 2, 'LAM': 1, 'LD': 1, 'LI': 4, 'LIM': 74, 'LU': 2, 'M': 15, 'MA': 291, 'MB': 54, 'MC': 2, 'MD': 307, 'ME': 30, 'MH': 43, 'MI': 283, 'MIA': 3, 'MIC': 8, 'MN': 184, 'MO': 190, 'MOR': 5, 'MOS': 5, 'MOW': 75, 'MS': 32, 'MT': 36, 'MU': 12, 'MX': 50, 'MZ': 19, 'N': 25, 'NAN': 5, 'NAY': 2, 'NB': 19, 'NC': 338, 'ND': 13, 'NE': 58, 'NH': 57, 'NI': 6, 'NIR': 19, 'NJ': 261, 'NL': 7, 'NLE': 45, 'NM': 76, 'NS': 29, 'NSW': 9, 'NU': 8, 'NV': 253, 'NW': 34, 'NY': 645, 'O': 6, 'OAX': 1, 'OH': 378, 'OK': 79, 'ON': 534, 'OR': 359, 'OV': 3, 'PA': 357, 'PE': 2, 'PEN': 4, 'PH': 14, 'PIF': 4, 'PIU': 2, 'PM': 7, 'POS': 1, 'PR': 46, 'PUE': 14, 'QC': 105, 'QLD': 8, 'QUE': 10, 'R': 4, 'RI': 29, 'RJ': 23, 'RK': 3, 'RM': 87, 'ROO': 27, 'ROS': 3, 'RP': 6, 'S': 13, 'SA': 1, 'SAB': 1, 'SAM': 1, 'SC': 131, 'SCT': 65, 'SD': 25, 'SFO': 1, 'SG': 24, 'SH': 8, 'SIN': 11, 'SJ': 9, 'SK': 30, 'SL': 8, 'SLP': 4, 'SM': 10, 'SN': 8, 'SON': 7, 'SP': 79, 'SPE': 15, 'SS': 10, 'SU': 4, 'SVE': 4, 'TAB': 5, 'TAM': 5, 'TAO': 35, 'TH': 1, 'TM': 3, 'TN': 185, 'TNN': 28, 'TNQ': 2, 'TPE': 126, 'TPQ': 60, 'TTT': 1, 'TU': 1, 'TX': 1042, 'TXG': 43, 'TXQ': 1, 'TYU': 2, 'U': 15, 'UP': 1, 'UQ': 1, 'UT': 109, 'V': 9, 'VA': 432, 'VAN': 1, 'VBR': 2, 'VD': 4, 'VER': 10, 'VIC': 5, 'VLG': 10, 'VS': 4, 'VT': 8, 'WA': 757, 'WAL': 2, 'WI': 145, 'WLS': 30, 'WP': 8, 'WV': 25, 'WY': 23, 'X': 6, 'YAR': 1, 'YO': 1, 'YT': 2, 'YUC': 6, 'YUN': 4, 'Z': 1, 'ZAB': 1, 'ZAC': 3, 'ZG': 2, 'ZH': 36, 'ZP': 3}\n"
          ]
        }
      ],
      "source": [
        "def count_businesses_by_state(df):\n",
        "    return df.groupby('State/Province')['Store Number'].count().to_dict()\n",
        "\n",
        "print(count_businesses_by_state(directory))"
      ]
    },
    {
      "cell_type": "markdown",
      "id": "3947a418",
      "metadata": {
        "id": "3947a418"
      },
      "source": [
        "### 1.5 Finding Authors with Multiple Books"
      ]
    },
    {
      "cell_type": "markdown",
      "id": "08133e4a",
      "metadata": {
        "id": "08133e4a"
      },
      "source": [
        "Define a function `authors_with_multiple_books` that returns a list of authors who have more than one book in the `books` dataset."
      ]
    },
    {
      "cell_type": "code",
      "execution_count": 32,
      "id": "1bf0799e",
      "metadata": {
        "id": "1bf0799e",
        "colab": {
          "base_uri": "https://localhost:8080/"
        },
        "outputId": "343783e2-689d-4e5f-c3d7-6bf5adb26eb7"
      },
      "outputs": [
        {
          "output_type": "stream",
          "name": "stdout",
          "text": [
            "['Stephen King', 'P.G. Wodehouse', 'Rumiko Takahashi', 'Orson Scott Card', 'Agatha Christie', 'Piers Anthony', 'Mercedes Lackey', 'Sandra Brown', 'Dick Francis', 'Margaret Weis/Tracy Hickman', 'Terry Pratchett', 'James Patterson', 'Laurell K. Hamilton', 'Gordon Korman', 'Alan Dean Foster', 'Janet Evanovich', 'Bill Bryson', 'Dan Simmons', 'Dean Koontz', 'Gabriel García Márquez', 'Philip Roth', 'Terry Brooks', 'Robert A. Heinlein', 'Jodi Picoult', 'J.R.R. Tolkien', 'Anne Rice', 'Marian Keyes', 'Joyce Carol Oates', 'Roald Dahl', 'John Grisham', 'Dr. Seuss', 'Toni Morrison', 'Maeve Binchy', 'Roald Dahl/Quentin Blake', 'Nora Roberts', 'Francine Pascal/Kate William', 'Michael Crichton', 'Paul Auster', 'Alexander McCall Smith', 'V.C. Andrews', 'Kurt Vonnegut Jr.', 'William Shakespeare', 'Jeffery Deaver', 'J.R.R. Tolkien/Christopher Tolkien', 'Isaac Asimov', 'Douglas Adams', 'Don DeLillo', 'Nicholas Sparks', 'Tite Kubo', 'Clive Cussler', 'Erin St. Claire/Sandra Brown', 'John Irving', 'Mary Higgins Clark', 'Carl Hiaasen', 'Lynsay Sands', 'Philippa Gregory', 'Dan Brown', 'Jane Austen', 'John Steinbeck', 'Hiromu Arakawa/Akira Watanabe', 'Meg Cabot', 'Chuck Palahniuk', 'P.D. James', 'Jack Vance', 'James A. Michener', 'John McPhee', \"Patrick O'Brian\", 'Ursula K. Le Guin', 'Eoin Colfer', 'Robin McKinley', 'William Sleator', 'Jane Green', 'Clive Barker', 'Douglas Coupland', 'T. Coraghessan Boyle', 'J.K. Rowling', 'Ray Bradbury', 'Lee Child/Dick Hill', 'Patricia Cornwell', 'Hirohiko Araki', 'Philip Pullman', 'Lloyd Alexander', 'Martin Amis', 'Thomas Pynchon', 'Emma Donoghue', 'Joseph Wambaugh', 'Tad Williams', 'Iain M. Banks', 'Christopher Hitchens', 'William Faulkner', 'Raymond E. Feist', 'Jill Mansell', 'Diana Gabaldon', 'Kim Stanley Robinson', 'David Morrell', 'Anne Stuart', 'Ian Fleming', 'Robert R. McCammon', 'C.S. Lewis', 'Richard A. Knaak', 'Tamora Pierce', 'Aldous Huxley', 'Philip K. Dick', 'Colleen McCullough', 'Yumi Hotta/Yumi Hotta', 'Frank Herbert', 'P.C. Cast', 'Anne Tyler', 'Richard P. Feynman', 'Joan Didion', 'Francine Pascal', 'Tim LaHaye/Jerry B. Jenkins', 'Francesca Lia Block', 'M.C. Beaton', 'Nelson DeMille', 'Jane Smiley', 'Edgar Rice Burroughs', 'Robert Ludlum', 'Tom Clancy', 'Julie Kenner', 'Juliet Marillier', 'Cynthia Harrod-Eagles', 'Charles Todd', 'Jeanette Winterson', 'L.A. Banks', 'Michael Connelly', 'Dave Eggers', 'William Goldman', 'Salman Rushdie', 'Douglas Clegg', 'Ernest Hemingway', 'Lawrence Block', 'Charles Dickens', 'CLAMP/William Flanagan', 'Truman Capote', 'Martha Grimes', 'José Saramago/Giovanni Pontiero', 'Stephen Jay Gould', 'Neil Gaiman', 'Richard Powers', 'David McCullough', 'Isabel Allende', 'Joanne Fluke', 'Georgette Heyer', 'Ian McEwan', 'Karen Armstrong', 'L.M. Montgomery', 'Zadie Smith', 'John Brunner', 'Hiromu Arakawa/荒川弘/方郁仁', 'Neal Stephenson', 'Herman Wouk', 'Tom Robbins', 'Jennifer Crusie', 'Shel Silverstein', 'Christopher Moore', 'Karen Kingsbury', 'James Baldwin', 'John Saul', 'Mary  Stewart', 'Tom Stoppard', 'Judy Blume', 'Sophie Kinsella', 'Alice Munro', 'Ram Dass/Richard Alpert', 'John Banville', 'Carlos Castañeda', 'Robert Jordan', \"Madeleine L'Engle\", \"Tim O'Brien\", 'William Shakespeare/Barbara A. Mowat/Paul Werstine', 'Isabel Allende/Margaret Sayers Peden', 'Susan Howatch', 'Janny Wurts', 'William S. Burroughs', 'Terry Eagleton', 'Leon Uris', 'Blake Nelson', 'Noel Streatfeild', 'Jonathan Franzen', 'Jonathan Lethem', 'Scott Turow', 'William Shakespeare/Roma Gill', 'Pearl S. Buck', 'Nick Hornby', 'Beatrix Potter', 'H.G. Wells', 'Joe Haldeman', 'Scott Westerfeld', 'Anthony Burgess', 'Douglas Preston/Lincoln Child', 'Albert Camus', 'Alain de Botton', 'Bill Watterson', 'Hirohiko Araki/Hirohiko Araki', 'Takashi Hashiguchi', 'Richard  Adams', 'Louis Sachar', 'Jimmy Carter', 'Victoria Alexander', 'Dante Alighieri/Mark Musa', 'Kelley Armstrong', 'Harlan Coben', 'Laura Ingalls Wilder/Garth Williams', 'CLAMP', 'Patrick Robinson', 'Tess Gerritsen', 'Fred Saberhagen', 'Ha Jin', 'William Manchester', 'Vladimir Nabokov', 'Raymond Chandler', 'David Baldacci', 'Alice Hoffman', 'John Piper', 'Roddy Doyle', 'Arthur Golden', 'Cormac McCarthy', 'Gabriel García Márquez/Gregory Rabassa', 'M.M. Kaye', 'Jasper Fforde', 'C.S. Friedman', 'Charles Bukowski', 'John Sandford', 'Joanne Harris', 'Garry Wills', 'Fyodor Dostoyevsky/Richard Pevear/Larissa Volokhonsky', 'Ayn Rand', 'Shirley Rousseau Murphy', 'Elizabeth George', 'Ken Follett', 'Kazuo Ishiguro', 'Caroline B. Cooney', 'Elizabeth Gilbert', 'Angela Knight', 'Herman Melville', 'Tracy Chevalier', 'Annie Dillard', 'Margaret Atwood', 'Mark Kurlansky', 'Clive Cussler/Paul Kemprecos', 'Amy Tan', 'Thomas Sowell', 'David Levithan', 'Kim Harrison', 'Mark Haddon', 'Karin Slaughter', 'Dennis Lehane', 'Eudora Welty', 'J.K. Rowling/Mary GrandPré', 'Catherine Coulter', 'John Updike', 'Oscar Wilde', 'Noam Chomsky', 'Gary Paulsen', 'Junji Ito/伊藤潤二', 'Daniel C. Dennett', 'Barbara Kingsolver', 'Peter S. Beagle', 'Connie Willis', 'Patricia A. McKillip', 'Laura Ingalls Wilder/Renée Graef', 'Kate Atkinson', 'Stephen R. Donaldson', 'Diana Wynne Jones', 'Debbie Dadey/Marcia Thornton Jones/John Steven Gurney', 'Umberto Eco', 'Max Allan Collins', 'Gore Vidal', 'Iris Murdoch', 'Laurie Notaro', 'Bret Easton Ellis', 'Kathryn Lasky', 'Greg Iles', 'Jo Clayton', 'Joseph Heller', 'James Ellroy', 'Henry Miller', 'Jonathan Safran Foer', 'Sarah Mlynowski', 'Erica Jong', 'Michael   Lewis', 'Simon Schama', 'Jack Du Brul', 'Kazuo Umezu', 'Anaïs Nin', 'Jayne Ann Krentz', 'Megan McDonald/Peter H. Reynolds', 'Dale Carnegie', 'James Clavell', 'Jeff Shaara', 'David Eddings', 'William Gibson', 'Minette Walters', 'Haruki Murakami/Philip Gabriel', 'Sue Monk Kidd', 'Stephen Hawking', 'Anaïs Nin/Gunther Stuhlmann', \"Karen  O'Connor/Larry J. Sabato\", 'Rick Riordan', 'Elizabeth Peters', 'Simon Winchester', 'Susan Conant', 'Yumi Hotta/Takeshi Obata', 'Charles Burns', 'Anna Maxted', 'Jacqueline Carey', 'Yuki Shimizu', 'J.D. Salinger', 'Juan Rulfo', 'Milan Kundera/Linda Asher', 'Denis Johnson', 'Richard Matheson', 'Carolyn Meyer', 'Amelia Atwater-Rhodes', 'Louisa May Alcott', 'Charles Stross', 'Peggy Parish/Lynn Sweat', 'Anthony Bourdain', 'Debra Hess', 'Lois Lowry', 'NOT A BOOK', 'David Foster Wallace', 'Hideyuki Kikuchi/Yoshitaka Amano', 'Chaim Potok', 'Chris Ware', 'Jim Lehrer', 'Agatha Christie/Hugh Fraser', 'Teresa Edgerton', 'Karen Kingsbury/Gary Smalley', 'E.M. Forster', 'Irvin D. Yalom', 'Richard Rhodes', 'Mitch Albom', 'bell hooks', 'Erle Stanley Gardner', 'Hiromu Arakawa', 'Julian May', 'Seamus Heaney', 'C.S. Lewis/Pauline Baynes', 'Harold Bloom', 'Stephen R. Covey', 'J.M. Coetzee', 'Tom Perrotta', 'Anita Shreve', 'Arthur Koestler', 'Rick Moody', 'Friedrich Nietzsche', 'Craig Thompson', 'Roger Hargreaves', 'Maya Angelou', 'Brian Herbert/Kevin J. Anderson', 'Jonathan Carroll', 'Time-Life Books', 'Maud Hart Lovelace/Vera Neville', 'Robert D. Kaplan', 'Graham Masterton', 'Todd Gitlin', 'Patrick Süskind', 'James Redfield', 'C.S. Lewis/Pauline Baynes/Ana Falcão Bastos', 'Nathaniel Hawthorne', 'Lawrence Durrell', 'Edgar Allan Poe', 'Bryce Courtenay', 'Cecily von Ziegesar', 'P.J. Parrish', 'Daisy Meadows/Georgie Ripper', 'Chuck Klosterman', 'John Barth', 'Simon Goldhill', 'Georges Simenon', 'Irvine Welsh', 'Thomas  Harris', 'William T. Vollmann', 'Aristophanes/Jeffrey Henderson', 'Mario Puzo', 'Robin Hobb', 'William Golding', 'Terry Goodkind', 'Lawrence Sanders', 'Edward P. Jones', 'Peter F. Hamilton', 'Euripides/David Kovacs', 'Elizabeth Lowell', 'Wilbur Smith', 'Joseph J. Ellis', 'James Scott Bell', 'Elizabeth  George', 'Shana Abe', 'Haruki Murakami/Jay Rubin', 'Chie Shinohara', 'Susan Hill', 'Gregory Maguire/Elaine Clayton', 'Jayne Castle/Jayne Ann Krentz', 'Eric Hobsbawm', 'Howard Zinn', 'Jules Verne', 'Emma Holly', 'Daniel Goleman', 'Rebecca Solnit', 'Richard Dawkins', 'Steven Pressfield', 'Jack London', 'V.S. Naipaul', 'Malcolm Gladwell', 'Anne Lamott', 'Yayoi Ogawa', 'Augusten Burroughs', 'Megan Whalen Turner', 'Barry  Lopez', 'Julian Barnes', 'Knut Hamsun/Sverre Lyngstad', 'Al Ries/Jack Trout', 'Jared Diamond', 'Eva Brann', 'Linda Lael Miller', 'Graham Greene', 'Isak Dinesen/Karen Blixen', 'Antonia Fraser', 'Hunter S. Thompson', 'Kevin Henkes', 'Jean-Paul Sartre', 'José Saramago/Pilar del Río', 'Joan Aiken', 'Marcel Proust/C.K. Scott Moncrieff/Terence Kilmartin/D.J. Enright', 'Emily Giffin', 'Anne McCaffrey', 'Madeleine Brent', 'Oscar Hijuelos', 'Gene Wolfe', 'Jack Kerouac', 'James Axler', 'Robert McCloskey', 'Roger Hargreaves/Gray Jolliffe', 'Arthur Conan Doyle', 'Virginia Woolf', 'John Julius Norwich', 'Hermann Hesse', 'Syd Hoff', 'Ken Kesey', 'Stephen E. Ambrose', 'Stephen W. Frey', 'Haven Kimmel', 'Michael Moorcock', 'Sebastian Faulks', 'Warren Ellis/Darick Robertson/Rodney Ramos', 'Michael Chabon', 'Maud Hart Lovelace/Lois Lenski', 'Marsha Collier', 'Eiji Nonaka/Brendan Frayne', 'Lorna Landvik', 'Tom Wolfe', 'D.H. Lawrence', 'Ronda Thompson', 'George Orwell', 'Charlie Huston', 'J.R. Ward', 'Paul Bowles', 'Edmund S. Morgan', 'Lee Charles Kelley', 'Joseph Conrad', 'Victoria Holt', 'Jerome K. Jerome', 'Tananarive Due', 'Donald Spoto', 'Umberto Eco/William Weaver', 'David R. Hawkins', 'Henning Mankell/Laurie Thompson', 'Oh! Great/大暮 維人', 'Erik Larson', 'James   McBride', 'Simone de Beauvoir', 'Michael Connelly/Dick Hill', 'Nicholson Baker', 'Norman Mailer', 'Henry Chadwick', 'Robert B. Parker/Joe Mantegna', 'Peter Straub', 'Iain Pears', 'Jeff Rovin/Tom Clancy/Steve Pieczenik', 'S.E. Hinton', 'Chinua Achebe', 'Marshall Sahlins', 'Cait London', 'Trudi Canavan', 'Michael Craft', 'E.L. Doctorow', 'Barbara Nadel', 'Wallace Stegner', 'Frank E. Peretti', 'Gabriel García Márquez/Edith Grossman', 'Paulo Coelho/Alan R. Clarke', 'Russell Banks', 'Rudyard Kipling', 'Trevanian', 'Marguerite Duras', 'Ricardo Piglia', 'Clive Cussler/Craig Dirgo', 'James Patterson/Andrew Gross', 'Anthony Powell', 'Mark Twain', 'Annie Proulx', 'Ayn Rand/Leonard Peikoff', 'Francine Prose', 'A.N. Roquelaure/Anne Rice', 'Ron Rash', 'Mary Higgins Clark/Carol Higgins Clark', 'Colm Tóibín', 'C.S. Lewis/Walter Hooper', 'Richard Bach', 'John Gray', 'Sandra Cisneros', 'Claire Messud', 'Raymond Carver', 'Franz Kafka', 'J.V. Jones', 'Candace Bushnell', 'Ann Patchett', 'Charles Taylor', 'Lorrie Moore', 'Hayao Miyazaki/Matt Thorn/Kaori Inoue/Joe Yamazaki/Walden Wong/Izumi Evers', 'Carolyn Keene', 'Italo Calvino', 'Astrid Lindgren/Ilon Wikland/Florence Lamborn', 'Mary Pope Osborne/Homer/Troy Howell', 'Plato/Benjamin Jowett', 'Grant Morrison/Frank Quitely', 'Susan Cooper', 'Alister E. McGrath', 'David Hackett Fischer', 'Eoin Colfer/Ana Alcaina', 'Joseph Pearce', 'Virginia Woolf/Anne Olivier Bell/Andrew McNeillie', 'Ned Vizzini', 'Marjorie Weinman Sharmat/Mitchell Sharmat/Denise Brunkus', 'Jean Estoril', 'Bill Maher', 'Erich Fromm', 'Julia Alvarez', 'Ruth Heller', 'Jean M. Auel', 'Erich Fromm/Rainer Funk', 'Alexandre Dumas/Robin Buss', 'David R. George III', 'Robert Hellenga', 'Gordon S. Wood', 'Homer/Robert Fagles/Bernard Knox', 'William Shakespeare/Alan Durband', 'Sinclair Lewis', 'Dashiell Hammett', 'Shelby Foote', 'Marguerite Duras/Barbara Bray', 'David Weber', 'Vince Flynn', 'Margaret Weis', 'Stephen King/Ned Dameron', 'Stephen King/Ron McLarty', 'Jhumpa Lahiri', 'Quentin Skinner', 'Halldór Laxness/Magnus Magnusson', 'Mary Pope Osborne/Salvatore Murdocca', 'Mary Pope Osborne/Natalie Pope Boyce/Salvatore Murdocca', 'Youka Nitta', 'Carrie Vaughn', 'Tobias Wolff', 'Richard Peck', 'Richard P. Feynman/Robert B. Leighton/Matthew L. Sands', 'Leo Tolstoy', 'Bernard Williams', 'Colin Wilson', 'Richard Brautigan', 'Mayu Shinjō', 'F. Scott Fitzgerald', 'Rick Bass', 'Joseph Frank', 'F. Scott Fitzgerald/Matthew J. Bruccoli', 'Phillip Lopate', 'Jonathan Harr', 'Brian Greene', 'George Beahm', 'Steve Turner', 'Elizabeth Berg', 'Jane Hamilton', 'Edwidge Danticat', 'Rohinton Mistry', 'Janet Fitch', 'Alan Paton', 'Rachel Ryan/Sandra Brown', 'Stephen King/John  Glover', 'Peter Abrahams', 'Geneen Roth', 'T.A. Barron', 'George R.R. Martin', 'Yukito Kishiro', 'Donald A. Norman', 'Daniel Keyes', 'George Saunders', 'Chris Offutt', 'Anita Diamant', 'Anya Seton/Philippa Gregory', 'Billy Collins', 'Geraldine Brooks', 'Kresley Cole', 'Nigella Lawson', 'Junichi Satō/Kaori Naruse', 'Stewart Brand', 'Chiho Saito', 'Honoré de Balzac', 'George E. Stanley/Guy Francis', 'Pete Hautman', 'Jim Butcher', 'Tomie dePaola', 'Dan Simmons/Guy Abadia', 'Francine Pascal/Jamie Suzanne', 'Brady Games', 'Donna Tartt', 'Hinako Takanaga', 'Robert D. Putnam', 'Diane Johnson', 'Richard A. Posner', 'Margaret George', 'Fern Michaels', 'Troy Denning', 'Steven D. Levitt/Stephen J. Dubner', 'Rumer Godden', 'Jennifer Weiner', 'Enid Blyton', 'Emma McLaughlin/Nicola Kraus', 'Mercedes Lackey/Rosemary Edghill', 'Sigrid Nunez', 'Daniel Clowes', 'Jorge Luis Borges/Andrew Hurley', 'Ron Roy/John Steven Gurney', 'Steve Martin', 'Adam Hochschild', 'Robert M. Pirsig', 'Carole Marsh', 'Hugh Honour/John Fleming', 'Bob Woodward', 'Mary Doria Russell', 'Cynthia Rylant/Preston McDaniels', 'Peter Mayle', 'Eric Schlosser', 'Wilkie Collins', 'Larry McMurtry', 'Charles Frazier', 'Slavoj Žižek', 'Mari Mancusi', 'Huston Smith', 'Paramahansa Yogananda', 'Dale Brown/Jim DeFelice', 'Alice Sebold', 'Max Barry', 'Janet Evanovich/Charlotte Hughes', 'Janet Evanovich/C.J. Critt', 'Joss Whedon/John Cassaday', 'P.G. Wodehouse/Jonathan Cecil', 'Margaret Truman', 'Tsugumi Ohba/Takeshi Obata/Pookie Rolf', 'Roger Hargreaves/Adam Hargreaves', 'Lance Armstrong/Sally Jenkins', 'Joyce Carol Oates/Elaine Showalter', 'Jahnna N. Malcolm', 'Betty MacDonald/Alexandra Boiger', 'Thucydides/C.F. Smith', 'Barbara Conklin', 'Tsugumi Ohba/Takeshi Obata/Tetsuichiro Miyaki', 'Cynthia Voigt', 'Mary Wollstonecraft Shelley', 'Dale Peck', 'Cory Doctorow', 'Kenneth H. Blanchard', 'Emmanuel Le Roy Ladurie/Barbara Bray', 'Elisabeth Kübler-Ross', 'Peter Singer', 'Ivan Turgenev/Richard Freeborn', 'Pat Conroy', 'Eleanor Estes/Edward Ardizzone', 'Lois Lenski', 'Ansel Adams/Robert Hardy Baker', 'Jack Kerouac/Ann Charters', 'Kahlil Gibran', 'Steven Johnson', 'Harold G. Moore/Joseph L. Galloway', 'Ursula K. Le Guin/S.D. Schindler', 'Yōko Kamio/神尾葉子', 'Robert M. Sapolsky', 'Leo Tolstoy/Richard Pevear/Larissa Volokhonsky', 'Stanisław Lem/Michael Kandel', 'Tsugumi Ohba/Takeshi Obata/Alexis Kirsch', 'Edith Wharton', 'Brian Jacques', 'Henri J.M. Nouwen', 'Sidney Sheldon', 'Stuart McLean', 'Michel Foucault/Robert Hurley', 'Barbara Ehrenreich', 'P.D. Eastman', 'Jon Krakauer', 'Jon Ronson', 'Richard Bachman/Stephen King', 'William Styron', 'Nora Ephron', 'Stephen Hunter/Beau Bridges', 'Julie Aigner-Clark/Nadeem Zaidi', 'Charlaine Harris', 'Gregory Maguire', 'Melissa de la Cruz', 'Lee Child', 'Leigh Nichols/Dean Koontz', 'Darren Shan', 'Jude Fisher', 'Laura Ingalls Wilder/Stephen W. Hines', 'Heidi Hayes Jacobs', 'Thomas Cahill', 'Tsutomu Nihei', 'Anita Desai', 'Kyoko Hikawa/Yuko Sawada/Freeman Wong', 'Brenda Joyce', \"Albert Camus/Justin O'Brien\", 'Zilpha Keatley Snyder', 'P.T. Deutermann', 'Russell Hoban', 'Dean Koontz/Leigh Nichols', 'SparkNotes', \"Charles Dickens/Gillen D'Arcy Wood\", 'Ron Chernow', 'Sophocles/Paul Roche', 'Silas House', 'Mark Z. Danielewski', 'Adrian McKinty', \"Cook's Illustrated Magazine\", 'Mark Twain/Charles Neider', 'Steve Perry/Tom Clancy/Steve Pieczenik', 'James Patterson/Peter de Jonge', 'Masamune Shirow', 'Zora Neale Hurston', 'Neale Donald Walsch', 'Diane Duane/Tom Clancy/Steve Pieczenik', 'Evelyn Waugh', 'Christopher Isherwood', 'Lin Carter', 'David Bodanis', 'Danielle Steel', 'Kate DiCamillo/Chris Van Dusen', 'David Lubar', 'Satosumi Takaguchi', 'Donald Miller', 'Roger Zelazny', 'John Berendt', 'Andrea Camilleri/Stephen Sartarelli', 'Avi', 'Will Ferguson', 'Al Franken', 'John Dos Passos', 'Fyodor Dostoyevsky/Ignat Avsey', 'Richard M. Weaver', 'John Dos Passos/E.L. Doctorow', 'Anton Chekhov/Richard Pevear/Larissa Volokhonsky', 'Hannah  Green/Joanne Greenberg', 'David Burnie', 'Arthur  Miller', 'Mary Balogh', 'Virgil/David Ferry', 'James Herriot', 'H. Jay Riker', 'Phillip C. McGraw', 'Karen Cushman', 'Lewis Carroll/John Tenniel', \"Patrick O'Brian/Simon Vance\", 'John Hersey', 'Kate Horsley', 'William Arrow', 'John F. MacArthur Jr.', 'J.R.R. Tolkien/Peter S. Beagle', 'Quentin Blake', 'Kathy Acker', 'Raymond Queneau/Barbara Wright', 'Arthur C. Clarke', 'Leo Tolstoy/Constance Garnett', 'Thomas Jefferson', 'Richard Wright', 'Amy Tan/Gretchen Schields', 'Tony Horwitz', 'David Goodis', 'David Goodis/Adrian Wootton', 'Karen Katz', 'Simon Singh', 'Matt Braun', 'Michael F. Roizen/Mehmet C. Oz', 'A.B. Yehoshua/Hillel Halkin', 'Armistead Maupin', 'Colson Whitehead', 'Frances Hodgson Burnett/Scott McKowen', 'Steven Pinker', 'Amartya Sen', 'Stephen King/Campbell Scott', 'Alexander Payne/Jim     Taylor', 'John Mason', 'Bernard Cornwell', 'Tracy Kidder', 'Witold Gombrowicz/Danuta Borchardt', 'Wendy Wasserstein', 'Terry Deary', 'Eric Chaisson/Steve McMillan', 'Richard   Preston', 'Stuart Woods', 'Martin  Gilbert', 'Nancy White Carlstrom/Bruce Degen', 'Ronald Takaki', 'James L. Stokesbury', 'Jane Feather', 'Edwin A. Abbott', 'Sarah Mayberry', 'David Lindsay-Abaire', 'J.R.R. Tolkien/Rob Inglis', 'Alexandra Moss', 'Adam Swift', 'Fyodor Dostoyevsky/Constance Garnett/Joseph Frank', 'Mark Smylie', 'Jorge Luis Borges', 'Robb Forman Dew', 'J.K. Rowling/Peter Needham', 'J.R.R. Tolkien/Alan  Lee', 'Patrick McGrath', 'Paul Krugman', 'Danzy Senna', 'Andrew J. Offutt', 'Jane Austen/Laura Engel', 'Jill Elizabeth Nelson', 'Susan Carroll', 'Kay Redfield Jamison', 'David Sedaris', 'Alan Lightman', 'Takashi Hashiguchi/橋口 たかし', 'James Shapiro', 'David Mamet', 'International Code Council (ICC)', 'Tim Downs', 'Elizabeth A. Lynn', 'Antoine de Saint-Exupéry', 'Ben Elton', 'John     Nichols', 'James Tiptree Jr.', 'Teddy Slater/Wayne Alfano', 'Nicholas P. White', 'Neil Gaiman/Dave McKean', 'Kevin Trudeau', 'Mario Vargas Llosa', 'Don Rosa', 'Rosa Montero', 'Matthew Pearl/Vicente Villacampa', 'Jeffrey Archer', 'Barack Obama', 'Thornton W. Burgess/Louis Agassiz Fuertes', 'Stephen King/Bettina Blanch Tyroller', 'Ann Rule', 'Muriel Spark', 'Hanif Kureishi', 'Ann Brashares', 'Delia Sherman', 'William T. Quick', 'George Orwell/Christopher Hitchens', 'Andre Dubus', 'Paul Theroux', 'Penny Jordan', 'Marcel Proust', 'Aldous Huxley/Christopher Hitchens', 'Maureen Johnson', 'Robin Wasserman', 'Naguib Mahfouz', 'Humphrey Carpenter', 'Jane B. Mason/Sarah Hines Stephens', 'Ian Edginton', 'Rebecca York', 'Judith McNaught', 'Randy Alcorn', 'Paula Danziger/Tony Ross', 'Nikos Kazantzakis/Peter A. Bien', 'Gabriel García Márquez/Gregory Rabassa/J.S. Bernstein', 'Ruth Reichl', 'James Lamar Roberts/William Faulkner/CliffsNotes', 'Ann Packer', 'Reynolds Price', 'Quentin Carter', 'Lincoln Child', 'Kara/Lee Yun-Hee', 'Mary Roach', 'Rachel Caine', 'George Crile', 'Edward W. Said', 'Allison Pearson', 'Alison Weir', 'J.R.R. Tolkien/托爾金/Alan  Lee/朱學恆', 'Nigel Warburton', \"Jun'ichirō Tanizaki/Howard Hibbett\", \"Jun'ichirō Tanizaki/Anthony H. Chambers\", 'James N. Frey', 'Nick Flynn', 'Chris L. Demarest', 'Heidi Boyd', 'Reinaldo Arenas/Andrew Hurley/Thomas Colchie', 'Jenny Nimmo', 'William Shakespeare/SparkNotes/John Crowther', 'William Jefferies/Jeffery Deaver', 'Brad Thor', 'Ed McBain', 'C.D. Payne', 'Leo Tolstoy/Louise Maude/Aylmer Maude', 'Hunter S. Thompson/Ralph Steadman', 'Arthur Conan Doyle/Kyle Freeman', 'Noam Chomsky/David Barsamian', 'Hayao Miyazaki/Diana Wynne Jones', 'Stephen Leeb/Glen C. Strathy', 'Richard R. George/Roald Dahl', 'David Sedaris/Amy Sedaris', 'Johann Wolfgang von Goethe/David  Luke', 'Vladimir Nabokov/Brian Boyd', 'Tim Bogenn', 'Brian Boyd', 'Dixie Cash', 'Louis Begley', 'Robert Kirkman/Charlie Adlard/Cliff Rathburn', 'Vijay Prashad', 'William Shakespeare/Paul Werstine/Barbara A. Mowat', 'Walter Dean Myers', 'Donald Goines', 'Anton Chekhov/Laurence Senelick', 'John Maddox Roberts', 'David Noonan', 'Angus Wells', 'John Lescroart', 'Anthony Thorlby', 'William Shakespeare/R.A. Foakes', 'Charles R. Swindoll', 'Keith Herber', 'Marjane Satrapi/Anjali Singh', 'Peter Kuper/Franz Kafka/Kerstin Hasenpusch', 'Azar Nafisi', 'Peter Biskind', 'David Mitchell', 'John Grogan', 'Neil Gaiman/Michael Zulli', 'William Gaddis', 'Dave Barry/Ridley Pearson/Greg Call', 'Jean Sasson', 'Clive Cussler/Dirk Cussler', 'William L. Shirer', 'Terry Pratchett/Paul Kidby', 'George Bernard Shaw', 'Tara MacCarthy', 'Art Spiegelman', 'Alexander Pushkin/Vladimir Nabokov', 'Sean Stewart', 'Max Frisch', 'Gloria Goldreich', 'Mark Allen Weiss', 'James A. Michener/Robert Vavra', 'Adam Drozdek', 'Kōbō Abe/E. Dale Saunders', 'Stephanie Laurens', 'J.M. Barrie/Peter Hollindale', 'Nathan Englander', 'Daniel Abdal-Hayy Moore', 'Mircea Eliade/Willard R. Trask', 'Christina Scull/Wayne G. Hammond', 'Mary S. Lovell', 'Philip Pullman/Ian Beck', 'Charles Stross/Shandra Marie/Jared Doreck', 'Janette Oke', 'Judi Barrett/Ron Barrett', 'Terry C. Johnston', 'Roland Barthes/Richard Howard', 'Donald J. Sobol/Warren Chang', 'Ellen Meloy', 'Lilian Jackson Braun', 'Robert Benedetti', 'Monica Furlong', 'Erich Maria Remarque', 'Kahlil Gibran/جبران خليل جبران', \"Reader's Digest Association\", 'Haruki Murakami', 'MaryJanice Davidson', 'Émile Zola/Roger Pearson', 'Timothy Findley', 'Catherine Hapka', 'Rob Kidd/Walt Disney Company', 'Virginia Lee Burton', 'Rob Kidd/Jean-Paul Orpinas', 'Plato/G.M.A. Grube/John M. Cooper', 'Barbara Taylor Bradford', 'Kurt Busiek/Alex Ross', 'Stacy Horn', 'Fyodor Dostoyevsky/David Magarshack', 'Charles Willeford', 'Norton Juster', 'National Commission on Terrorist Attacks Upon The United States', 'Neil deGrasse Tyson', 'James Fenimore Cooper/Blake Nevius', 'Cornelia Funke/Anthea Bell', 'Pablo Neruda', 'Edith Hamilton', 'Fyodor Dostoyevsky/Jessie Coulson', 'Virgil/Robert Fitzgerald', 'Bryan Sykes', 'E. Nesbit', 'Frederick P. Lenz', 'David Malouf', 'Sydney Taylor', 'Michael Morpurgo/Michael Foreman', 'Dalai Lama XIV/Howard C. Cutler', 'Henry David Thoreau', 'Philip José Farmer', 'Fannie Flagg', 'T.H. White', 'R.A. Salvatore', 'Mike  Davis', 'Eoin Colfer/Glenn McCoy', 'Stanisław Lem/Louis Iribarne', 'Ruby Ann Boxcar', 'Christine Feehan', 'Virgil/David   West', 'Gary Russell', 'Edward R. Tufte', 'Cheri Huber/June Shiver', 'Edith Wharton/Jeffrey Meyers', 'Jeffrey Ford', 'Hayao Miyazaki', 'Robert Louis Stevenson', 'Daniel Jonah Goldhagen', 'Sigrid Undset', 'Primo Levi', 'Alan Hollinghurst', 'J.R.R. Tolkien/Francis Ledoux', 'Norman Rush', 'Brian Jacques/David Elliot', 'Emily Brontë', 'Sigrid Undset/Tiina Nunnally/Sherrill Harbison', 'Sigrid Undset/Arthur G. Chater', 'Sigrid Undset/Tiina Nunnally', 'G. Richard Shell', 'Mark Twain/Louis J. Budd', 'Clive Cussler/Jack Du Brul', 'Louisa May Alcott/C. Michael Dudash/Stephen W. Hines', 'John Perkins', 'Anne Mazer/Bill Brown', 'Denise Dersin', 'Ann Beattie', 'Homer/W.H.D. Rouse', 'Homer/E.V. Rieu/Peter Jones/D.C.H. Rieu', 'Alcoholics Anonymous', 'Anne Mazer', 'Nick Tosches', 'Margaret Wise Brown/Clement Hurd', 'Maurice Sendak', 'David James Duncan', 'Christopher Janaway', 'Jean Estoril/Mabel Esther Allan', 'Chuck Palahniuk/Javier Calvo', 'Anne Mazer/Monica Gesue', 'Herodotus/Aubrey de Sélincourt/John M. Marincola', 'Mark Kurlansky/S.D. Schindler', 'Dyan Sheldon', 'Louis de Bernières', 'Kate DiCamillo', 'Stephen Manes', 'Nicholas Wright/Philip Pullman', 'Howard Zinn/Kathy Emery/Ellen Gordon Reeves', 'Anthony E. Wolf', 'Rodney Stark', 'R. Scott Bakker', 'Chris Manby', 'Paulo Coelho', 'Diana Palmer', 'Jane Porter', 'William Shakespeare/Stephen Orgel/A.R. Braunmuller', 'Elaine Cunningham', 'Michael Pollan', 'Natsuo Kirino', 'Jerry Spinelli', 'Zoë Heller', 'Tsugumi Ohba/Takeshi Obata', 'Valerie Parv', 'Saul Bellow', 'Daniel Defoe/Virginia Woolf', 'Jostein Gaarder/James Anderson', 'Alice Walker', 'Jerome Preisler/Tom Clancy/Martin Greenberg', 'Paul Hendrickson', 'Michael J. Nelson/Charles S. Anderson Design Company/Pop Ink', 'Katherine Paterson', 'Mercedes Lackey/Larry Dixon', 'Herman Melville/G. Thomas Tanselle', 'Miyamoto Musashi/Thomas Cleary', 'Kōji Suzuki/Glynne Walley', 'Richard Russo', 'Noel Streatfeild/Diane Goode', 'Edmund Morris', 'David Gemmell', 'Walter Kirn', 'Lewis Carroll/Helen Oxenbury', 'Satoru Kannagi/Hotaru Odagiri', 'Lawrence Otis Graham', 'Richard Ford', 'Tyler Florence/Petrina Tinslay', 'Grant Morrison/Phil Jimenez/John Stokes', 'Helen Vendler', 'Robert Nye', 'William Shakespeare/Andrew Gurr', 'J.A. Jance', 'René Descartes/Donald A. Cress', 'Nicole Krauss', 'Giada De Laurentiis/Victoria Pearson', 'Audrey Niffenegger', 'Frank McConnell', 'Yann Martel', 'Plato/C.D.C. Reeve', 'Plato/C.J. Rowe', 'Lindsey Davis', 'Mark Bittman', 'Edward Gibbon', 'Andrew Solomon', 'Haruki Murakami/Alfred Birnbaum', 'Pauline Kael', 'Kaho Miyasaka', 'Jay Rubin', 'Thomas Harlan', 'Stephen M. Pollan/Mark LeVine', 'Robert Greene/Joost Elffers', 'David Almond', 'Kohta Hirano', 'Thomas Aquinas', 'Arthur Conan Doyle/Leslie S. Klinger', 'Lois Gladys Leppard', 'Michel de Montaigne/M.A. Screech', 'Isaac Bashevis Singer/Ilan Stavans', 'Hilary H. Milton', 'Ruth Ozeki', 'Anonymous/N.K. Sandars', 'James  Hawkins', 'Frank Warren', 'Aeschylus/E.D.A. Morshead', 'Richard Paul Russo', 'Harry Crews', 'Thomas Kinkade/Erika Tamar', 'Russell Roberts/Russ Roberts', 'Aeschylus/David R. Slavitt/Smith Palmer Bovie', 'James W. Loewen', 'Brian Michael Bendis/Mark Bagley', 'John Kennedy Toole', 'Raymond Chandler/Frank MacShane', 'Jack Williamson', 'Anne McCaffrey/Elizabeth Ann Scarborough', 'Robert Shapard/James Thomas', 'Garth Nix', 'Michael Cunningham', 'Wole Soyinka', 'Jay Parini', 'Michael Marshall Smith', 'James Preller/R.W. Alley/Jamie  Smith', 'Wayne W. Dyer', 'Mary B. Collins', 'Jeffrey Eugenides', 'Doris Kearns Goodwin', 'Pindar/William H. Race', 'Robin S. Sharma', 'W. Somerset Maugham', 'Morag McKendrick Pippin', 'Samuel Beckett', 'Jack Kerley', 'David    Allen', 'Karen Tei Yamashita', 'Kevin Crossley-Holland', 'Bernard Cornwell/Jamie Glover', 'Nelson DeMille/Otto Penzler', 'Charles Lamb/Mary Lamb/Arthur Rackham', 'Stephen Greenblatt', 'Thomas L. Friedman', 'Tristan Taormino', 'Ovid/Frank Justus Miller', 'Ludwig Wittgenstein/G.E.M. Anscombe', 'Terry Pratchett/Neil Gaiman', 'Sophocles/Reginald Gibbons/Charles Segal', 'Michael Connelly/Len Cariou', 'Jane Leslie Conly/Leonard B. Lubin', 'Lisa Gardner', 'Jung Chang', 'David  Michaels/Raymond Benson/Tom Clancy', 'Reinaldo Arenas', 'Paul Bowles/Daniel Halpern', 'Ovid/William Scovil Anderson', 'Kenzaburō Ōe/John Nathan', 'David   Robbins/David Thompson', 'José Saramago/Margaret Jull Costa', 'Stanley Bing', 'Shūsaku Endō/Van C. Gessel', 'Hiroki Endo', 'Russell Hoban/Quentin Blake', 'Harper Lee', 'David H. Chilton', 'Eleanor Estes/Louis Slobodkin', 'Georg Wilhelm Friedrich Hegel', 'David D. Burns', 'Hiroyuki Morioka', 'Geoffrey Chaucer/Nevill Coghill', 'Sylvia Plath/Karen V. Kukil', 'Julie Powell', 'Laurence Yep', 'Lynda Milligan/Nancy J. Smith', 'Stephen King/Eduardo Goligorsky', 'Carroll John Daly', 'Stephen King/Gregorio Vlastelica/Eduardo Goligorsky', 'Stephen King/Richard Bachman', 'Jude Watson', 'Anne McCaffrey/Todd McCaffrey', 'Sylvia Plath', 'Carol Shields', 'Dan Millman', 'Jay McInerney', 'Euripides/John Davie/Richard Rutherford', 'Roddy Doyle/Brian Ajhar', 'Roberta Gellis', 'Michael Jecks', 'Edith Wharton/R.W.B. Lewis', 'Edith Wharton/Maureen Howard', 'Steve Perry', 'Dan Savage', 'Richard Curtis', 'Richmond Lattimore', 'D.T. Max', 'A.S. Byatt', 'Herman Melville/William Hootkins', 'Erving Goffman', 'Geraldine McCaughrean/Victor G. Ambrus/Herman Melville', 'Junji Ito/伊藤潤二/Naomi Kokubo', 'Harriet Lerner', 'Steve Martini', 'Andrea Levy', 'Orhan Pamuk/Rafael Carpintero', 'H.P. Lovecraft', 'Mary Pope Osborne/Troy Howell', 'J.R.R. Tolkien/Christina Scull/Wayne G. Hammond', 'Lerone Bennett Jr.', 'E.B. White/Garth Williams/Rosemary Wells', 'Julian Jaynes', 'James Patterson/Michael Ledwidge', 'Harold Bloom/Terry Southern/David H. Goldsmith/James Lundquist/Lawrence R. Broer/Peter J. Reed/Loree Rackstraw/William S. Doxey/Jerome Klinkowitz/Richard Giannone/John L. Simons/Leonard Mustazza/Zoltan Ab di-Nagy/Peter Freese/Wendy B. Faris', 'Stephen King/Bernie Wrightson', 'Philip K. Dick/John Brunner', 'Markus Zusak', 'Gregory Maguire/Douglas Smith', 'David Pogue', 'Jean Rhys', 'Dava Sobel', 'Sarah Dessen', 'E.E. Cummings/Richard S. Kennedy', 'Michio Kaku', 'Marissa Moss', 'Bill Clinton', 'Matthew Kneale', 'Marcel Proust/C.K. Scott Moncrieff/Terence Kilmartin', 'Lisa See', \"Eugene O'Neill/Travis Bogard\", 'Yosef A.A. Ben-Jochannan', 'Antony Beevor', 'Jean Rabe', 'Martin E.P. Seligman', 'Garrison Keillor', 'Rick Warren', 'Alice Medrich', 'Nathaniel Philbrick', 'Edgar Rice Burroughs/John Bolen', 'E.B. White/Garth Williams', 'Ann Rinaldi', 'Susan Minot', 'William Faulkner/Noel Polk/Joseph Blotner', 'Henning Mankell/Ebba Segerberg', 'M. Scott Peck', 'James Lee Burke', 'Helen Fielding', 'Fyodor Dostoyevsky/David McDuff', 'C.E. Murphy', 'Thomas Wolfe', 'Gary K. Carey', 'Matt Ridley', 'Walter Isaacson', 'Carlos Ruiz Zafón/Lucia Graves', 'Virginia Woolf/Nigel Nicolson/Joanne Trautmann', 'E.L. Konigsburg', 'Sylvia Engdahl', 'Robert A. Dahl', 'Ian Edginton/Simon Fraser', 'Carlos Ruiz Zafón', 'Lisa McCourt/Cyd Moore', 'Doreen Cronin/Betsy Lewin', 'Preston Peet', 'Joseph Conrad/Cedric Watts', 'Aldous Huxley/Robert S. Baker/James Sexton', 'Augustine of Hippo', 'Sandra Boynton', 'George S. Clason', 'Cecelia Ahern', 'Geneviève/Michael    Heath', 'Anthony Loyd', 'Dan Birlew', 'Will Eisner/Neil Gaiman', 'Will Eisner', 'David Eddings/Leigh Eddings', 'Napoleon Hill', 'Sandy Petersen/Lynn Willis', 'Frank McCourt', 'William Strunk Jr./E.B. White', 'Kaye Gibbons', 'James Hamilton-Paterson', 'Celeste Bradley', 'F. Scott Fitzgerald/James L.W. West III', 'Stephen King/Peter Straub', 'Naomi Novik', 'Bram Stoker', 'Ann-Marie MacDonald', 'George Eliot', 'Elizabeth Clare Prophet', 'Janet Valade', 'Michael Shaara', 'James Patterson/Howard Roughan', 'Robert Irwin', 'Satosumi Takaguchi/Satosumi Takaguchi', 'Marta Acosta', 'Sue Miller', 'Phyllis Reynolds Naylor', 'Howard Chaykin', 'Carl Hiaasen/Edward Asner', 'Karen Hesse', 'James Patterson/Maxine Paetro', 'Barbara Park/Denise Brunkus', 'George Lucas', 'John Steinbeck/Elaine Steinbeck/Robert DeMott', 'Patrick Lencioni', 'Susan   Mallery', 'Jim Carroll', 'Marcia Angell', 'Barthe DeClements', 'Nikolai Gogol', 'Jon Kabat-Zinn', 'Neal Stephenson/Pedro Jorge Romero', 'Homer/Edward McCrorie/Richard P. Martin', 'Noah Gordon', 'Irving Stone', 'Åsne Seierstad', 'Jen Lancaster', 'Walter J. Savitch', 'Monica Ali', 'Marcus J. Borg', 'Robert Graves', 'Dan Harrington/Bill Robertie', 'Roger Lowenstein', 'Lauren Weisberger', 'Candace Ward', 'Noah Gordon/Mirjana Cvekić/Ljiljana Cvekić', 'Elspeth Huxley']\n"
          ]
        }
      ],
      "source": [
        "def authors_with_multiple_books(df):\n",
        "    author_counts = df['authors'].value_counts()\n",
        "    return author_counts[author_counts > 1].index.tolist()\n",
        "\n",
        "print(authors_with_multiple_books(books))\n"
      ]
    },
    {
      "cell_type": "markdown",
      "id": "285db302",
      "metadata": {
        "id": "285db302"
      },
      "source": [
        "## Question 2: Applying Transformations"
      ]
    },
    {
      "cell_type": "markdown",
      "id": "fa3d2098",
      "metadata": {
        "id": "fa3d2098"
      },
      "source": [
        "### 2.1 Standardizing City Names"
      ]
    },
    {
      "cell_type": "markdown",
      "id": "d8103e0c",
      "metadata": {
        "id": "d8103e0c"
      },
      "source": [
        "Define a function `standardize_city_names` that converts all city names in the `directory` dataset to lowercase using `apply`."
      ]
    },
    {
      "cell_type": "code",
      "execution_count": 35,
      "id": "70d0dd31",
      "metadata": {
        "id": "70d0dd31",
        "colab": {
          "base_uri": "https://localhost:8080/"
        },
        "outputId": "f1548ce1-346c-4504-af74-d4adf888b87e"
      },
      "outputs": [
        {
          "output_type": "stream",
          "name": "stdout",
          "text": [
            "0    andorra la vella\n",
            "1               ajman\n",
            "2               ajman\n",
            "3           abu dhabi\n",
            "4           abu dhabi\n",
            "Name: City, dtype: object\n"
          ]
        }
      ],
      "source": [
        "def standardize_city_names(df):\n",
        "    df['City'] = df['City'].str.lower()\n",
        "    return df\n",
        "\n",
        "directory = standardize_city_names(directory)\n",
        "print(directory['City'].head())"
      ]
    },
    {
      "cell_type": "markdown",
      "id": "40d5800c",
      "metadata": {
        "id": "40d5800c"
      },
      "source": [
        "### 2.2 Categorizing Book Length"
      ]
    },
    {
      "cell_type": "markdown",
      "id": "acb316d6",
      "metadata": {
        "id": "acb316d6"
      },
      "source": [
        "Define a function `categorize_book_length` that adds a new column `length_category` to `books`, categorizing books as `Short` (<200 pages), `Medium` (200-400 pages), or `Long` (>400 pages)."
      ]
    },
    {
      "cell_type": "code",
      "execution_count": 38,
      "id": "b5bf9600",
      "metadata": {
        "id": "b5bf9600",
        "colab": {
          "base_uri": "https://localhost:8080/"
        },
        "outputId": "3fe5e0e0-a655-49ef-a45e-93c1e0d34806"
      },
      "outputs": [
        {
          "output_type": "stream",
          "name": "stdout",
          "text": [
            "                                               title  num_pages  \\\n",
            "0  Harry Potter and the Half-Blood Prince (Harry ...        652   \n",
            "1  Harry Potter and the Order of the Phoenix (Har...        870   \n",
            "2  Harry Potter and the Chamber of Secrets (Harry...        352   \n",
            "3  Harry Potter and the Prisoner of Azkaban (Harr...        435   \n",
            "4  Harry Potter Boxed Set  Books 1-5 (Harry Potte...       2690   \n",
            "\n",
            "  length_category  \n",
            "0            Long  \n",
            "1            Long  \n",
            "2          Medium  \n",
            "3            Long  \n",
            "4            Long  \n"
          ]
        }
      ],
      "source": [
        "\n",
        "books.columns = books.columns.str.strip()\n",
        "\n",
        "def categorize_book_length(df):\n",
        "    df['length_category'] = df['num_pages'].apply(lambda pages: 'Short' if pages < 200 else ('Medium' if pages <= 400 else 'Long'))\n",
        "    return df\n",
        "\n",
        "books = categorize_book_length(books)\n",
        "print(books[['title', 'num_pages', 'length_category']].head())"
      ]
    },
    {
      "cell_type": "markdown",
      "id": "2328c5d4",
      "metadata": {
        "id": "2328c5d4"
      },
      "source": [
        "## Question 3: Data Analysis"
      ]
    },
    {
      "cell_type": "markdown",
      "id": "ad74ed0e",
      "metadata": {
        "id": "ad74ed0e"
      },
      "source": [
        "### 3.1 Most Common State"
      ]
    },
    {
      "cell_type": "markdown",
      "id": "f61f2ab7",
      "metadata": {
        "id": "f61f2ab7"
      },
      "source": [
        "Define a function `most_common_state` that returns the most frequently occurring state in the `directory` dataset."
      ]
    },
    {
      "cell_type": "code",
      "execution_count": 39,
      "id": "1a65a9db",
      "metadata": {
        "id": "1a65a9db",
        "colab": {
          "base_uri": "https://localhost:8080/"
        },
        "outputId": "974e5cc7-eb69-45ae-9097-53d47c16e284"
      },
      "outputs": [
        {
          "output_type": "stream",
          "name": "stdout",
          "text": [
            "CA\n"
          ]
        }
      ],
      "source": [
        "def most_common_state(df):\n",
        "    return df['State/Province'].mode()[0]\n",
        "\n",
        "print(most_common_state(directory))\n"
      ]
    },
    {
      "cell_type": "markdown",
      "id": "215c4624",
      "metadata": {
        "id": "215c4624"
      },
      "source": [
        "## Question 4: Histograms"
      ]
    },
    {
      "cell_type": "markdown",
      "id": "1027e2e6",
      "metadata": {
        "id": "1027e2e6"
      },
      "source": [
        "### 4.1 Histogram of Business Listings per City"
      ]
    },
    {
      "cell_type": "markdown",
      "id": "1b404863",
      "metadata": {
        "id": "1b404863"
      },
      "source": [
        "Create a histogram showing the distribution of the number of businesses per city in the `directory` dataset."
      ]
    },
    {
      "cell_type": "code",
      "execution_count": 40,
      "id": "67096a73",
      "metadata": {
        "id": "67096a73",
        "colab": {
          "base_uri": "https://localhost:8080/",
          "height": 489
        },
        "outputId": "074bce1c-76e0-4c3e-de63-c24ba33f58b8"
      },
      "outputs": [
        {
          "output_type": "stream",
          "name": "stdout",
          "text": [
            "Histogram saved as businesses_per_city_histogram.png\n"
          ]
        },
        {
          "output_type": "display_data",
          "data": {
            "text/plain": [
              "<Figure size 640x480 with 1 Axes>"
            ],
            "image/png": "[encoded data removed]"
          },
          "metadata": {}
        }
      ],
      "source": [
        "def plot_business_city_histogram(df):\n",
        "    city_counts = df['City'].value_counts()\n",
        "    city_counts.hist(bins=50)\n",
        "    plt.title('Distribution of Business Listings per City')\n",
        "    plt.xlabel('Number of Businesses')\n",
        "    plt.ylabel('Number of Cities')\n",
        "    plt.savefig('businesses_per_city_histogram.png')\n",
        "    return \"Histogram saved as businesses_per_city_histogram.png\"\n",
        "\n",
        "print(plot_business_city_histogram(directory))"
      ]
    },
    {
      "cell_type": "markdown",
      "id": "3f0c52d2",
      "metadata": {
        "id": "3f0c52d2"
      },
      "source": [
        "### 4.2 Histogram of Book Ratings"
      ]
    },
    {
      "cell_type": "markdown",
      "id": "0522f6d4",
      "metadata": {
        "id": "0522f6d4"
      },
      "source": [
        "Create a histogram of book ratings from the `books` dataset."
      ]
    },
    {
      "cell_type": "code",
      "execution_count": 41,
      "id": "359fa4e9",
      "metadata": {
        "id": "359fa4e9",
        "colab": {
          "base_uri": "https://localhost:8080/",
          "height": 489
        },
        "outputId": "88dad28e-2927-4766-eb15-1798bcdf3f40"
      },
      "outputs": [
        {
          "output_type": "stream",
          "name": "stdout",
          "text": [
            "Histogram saved as book_ratings_histogram.png\n"
          ]
        },
        {
          "output_type": "display_data",
          "data": {
            "text/plain": [
              "<Figure size 640x480 with 1 Axes>"
            ],
            "image/png": "[encoded data removed]"
          },
          "metadata": {}
        }
      ],
      "source": [
        "def plot_rating_histogram(df):\n",
        "    df['average_rating'].hist(bins=20)\n",
        "    plt.title('Distribution of Book Ratings')\n",
        "    plt.xlabel('Average Rating')\n",
        "    plt.ylabel('Number of Books')\n",
        "    plt.savefig('book_ratings_histogram.png')\n",
        "    return \"Histogram saved as book_ratings_histogram.png\"\n",
        "\n",
        "print(plot_rating_histogram(books))\n"
      ]
    },
    {
      "cell_type": "code",
      "source": [],
      "metadata": {
        "id": "YFTzlnESDtl7"
      },
      "id": "YFTzlnESDtl7",
      "execution_count": null,
      "outputs": []
    }
  ],
  "metadata": {
    "colab": {
      "provenance": [],
      "include_colab_link": true
    },
    "language_info": {
      "name": "python"
    },
    "kernelspec": {
      "name": "python3",
      "display_name": "Python 3"
    }
  },
  "nbformat": 4,
  "nbformat_minor": 5
}