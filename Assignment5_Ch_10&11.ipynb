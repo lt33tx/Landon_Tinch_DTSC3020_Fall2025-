{
  "cells": [
    {
      "cell_type": "markdown",
      "metadata": {
        "id": "view-in-github",
        "colab_type": "text"
      },
      "source": [
        "<a href=\"https://colab.research.google.com/github/lt33tx/Landon_Tinch_DTSC3020_Fall2025-/blob/main/Assignment5_Ch_10%2611.ipynb\" target=\"_parent\"><img src=\"https://colab.research.google.com/assets/colab-badge.svg\" alt=\"Open In Colab\"/></a>"
      ]
    },
    {
      "cell_type": "markdown",
      "id": "9903d230",
      "metadata": {
        "id": "9903d230"
      },
      "source": [
        "# Assignment5: CRM Cleanup @ **DalaShop**\n",
        "*Files (Ch.10), Exceptions (Ch.10), Unit Tests (Ch.11), and Regular Expressions*  \n",
        ".....\n",
        "\n",
        "**Total: 3 points**  (Two questions, 1.5 pts each)  \n",
        "\n",
        "> This assignment is scenario-based and aligned with Python Crash Course Ch.10 (files & exceptions), Ch.11 (unit testing with `unittest`), and Regular Expressions."
      ]
    },
    {
      "cell_type": "markdown",
      "id": "d6487401",
      "metadata": {
        "id": "d6487401"
      },
      "source": [
        "## Scenario\n",
        "You are a data intern at an online retailer called **DalaShop**.  \n",
        "Sales exported a **raw contacts** file from the CRM. It contains customer names, emails, and phone numbers, but the formatting is messy and some emails are invalid.  \n",
        "Your tasks:\n",
        "\n",
        "1. **Clean** the contacts (Files + Exceptions + Regex).  \n",
        "2. **Write unit tests** to make sure your helper functions work correctly and keep working in the future."
      ]
    },
    {
      "cell_type": "markdown",
      "id": "0bd1712f",
      "metadata": {
        "id": "0bd1712f"
      },
      "source": [
        "## Data file (given by the company): `contacts_raw.txt`\n",
        "Use this exact sample data (you may extend it for your own testing, but do **not** change it when submitting).  \n",
        "Run the next cell once to create the file beside your notebook."
      ]
    },
    {
      "cell_type": "code",
      "execution_count": 2,
      "id": "c395a1a8",
      "metadata": {
        "id": "c395a1a8",
        "colab": {
          "base_uri": "https://localhost:8080/"
        },
        "outputId": "59c00cb6-273b-4d7b-c286-47db7bcf0f0c"
      },
      "outputs": [
        {
          "output_type": "stream",
          "name": "stdout",
          "text": [
            "Wrote contacts_raw.txt with sample DalaShop data.\n"
          ]
        }
      ],
      "source": [
        "# Create the provided company dataset file\n",
        "with open(\"contacts_raw.txt\", \"w\", encoding=\"utf-8\") as f:\n",
        "    f.write('Alice Johnson <alice@example.com> , +1 (469) 555-1234\\nBob Roberts <bob[at]example.com> , 972-555-777\\nSara M. , sara@mail.co , 214 555 8888\\n\"Mehdi A.\" <mehdi.ay@example.org> , (469)555-9999\\nDelaram <delaram@example.io>, +1-972-777-2121\\nNima <NIMA@example.io> , 972.777.2121\\nduplicate <Alice@Example.com> , 469 555 1234')\n",
        "print(\"Wrote contacts_raw.txt with sample DalaShop data.\")"
      ]
    },
    {
      "cell_type": "markdown",
      "id": "1b535f73",
      "metadata": {
        "id": "1b535f73"
      },
      "source": [
        "## Q1 (1.5 pts) — CRM cleanup with Files, Exceptions, and Regex\n",
        "Implement `q1_crm_cleanup.py` to:\n",
        "\n",
        "1. **Read** `contacts_raw.txt` using `pathlib` and `with`. If the file is missing, **handle** it gracefully with `try/except FileNotFoundError` (print a friendly message; do not crash).\n",
        "2. **Validate emails** with a simple regex (`r\"[A-Za-z0-9._%+-]+@[A-Za-z0-9.-]+\\.[A-Za-z]{2,}\"`).  \n",
        "   - Trim whitespace with `strip()` before checking.  \n",
        "   - Use **full** matching (not partial).\n",
        "3. **Normalize phone numbers:** remove all non-digits (e.g., with `re.sub(r\"\\D\", \"\", raw)`).  \n",
        "   - If the result has **≥ 10 digits**, keep the **last 10 digits**.  \n",
        "   - Otherwise, return an **empty string** (`\"\"`).\n",
        "4. **Filter rows:** keep **only** rows with a valid email.\n",
        "5. **Deduplicate:** remove duplicates by **email** using **case-insensitive** comparison (e.g., `email.casefold()`). **Keep the first occurrence** and drop later duplicates.\n",
        "6. **Output CSV:** write to `contacts_clean.csv` with **columns exactly** `name,email,phone` (UTF-8).  \n",
        "7. **Preserve input order:** the order of rows in `contacts_clean.csv` must match the **first appearance** order from the input file. **Do not sort** the rows.\n",
        "\n",
        "**Grading rubric (1.5 pts):**\n",
        "- (0.4) File read/write via `pathlib` + graceful `FileNotFoundError` handling  \n",
        "- (0.5) Correct email regex validation + filtering  \n",
        "- (0.4) Phone normalization + case-insensitive de-dup (keep first)  \n",
        "- (0.2) Clean code, clear names, minimal docstrings/comments"
      ]
    },
    {
      "cell_type": "code",
      "source": [
        "import re\n",
        "from pathlib import Path\n",
        "\n",
        "# Configuration Constants #\n",
        "EMAIL_REGEX = r\"[A-Za-z0-9._%+-]+@[A-Za-z0-9.-]+\\.[A-Za-z]{2,}\"\n",
        "INPUT_FILE = \"contacts_raw.txt\"\n",
        "OUTPUT_FILE = \"contacts_clean.csv\"\n",
        "\n",
        "# Regex to parse the two different raw contact line formats #\n",
        "LINE_PARSER_REGEX = re.compile(\n",
        "    r'(\"?.+?\"?)\\s*<([a-zA-Z0-9._%+-]+[\\[\\]@a-zA-Z0-9.-]+)> \\s*,\\s*(.+)|'\n",
        "    r'(.+?) \\s*,\\s*([a-zA-Z0-9._%+-]+@[a-zA-Z0-9.-]+\\.[a-zA-Z]{2,}) \\s*,\\s*(.+)'\n",
        ")\n",
        "\n",
        "\n",
        "\n",
        "def phone_cleaner(raw_number):\n",
        "  # Function to normalize and extract the last 10 digits of a phone number #\n",
        "    \"\"\"\n",
        "    Normalizes the phone number.\n",
        "    Uses re.sub to strip all non-digits, then keeps the last 10 if long enough.\n",
        "    \"\"\"\n",
        "    digits = re.sub(r\"\\D\", \"\", raw_number)\n",
        "\n",
        "    if len(digits) >= 10:\n",
        "        return digits[-10:]\n",
        "    else:\n",
        "        return \"\"\n",
        "\n",
        "def is_valid_email(email_str):\n",
        "  # Function to validate an email using a full regex match #\n",
        "    \"\"\"\n",
        "    Checks if an email is valid using the required full-match regex.\n",
        "    Must strip whitespace first, per instructions!\n",
        "    \"\"\"\n",
        "    return re.fullmatch(EMAIL_REGEX, email_str.strip()) is not None\n",
        "\n",
        "\n",
        "\n",
        "def run_cleanup():\n",
        "  # Main function to handle file I/O, cleaning, filtering, and de-duping #\n",
        "    \"\"\"\n",
        "    The main function that handles file I/O, cleaning, filtering, and de-duping.\n",
        "    \"\"\"\n",
        "    input_path = Path(INPUT_FILE)\n",
        "\n",
        "    final_contacts = []\n",
        "    seen_emails = set() # Set for tracking emails for de-duplication #\n",
        "\n",
        "    try:\n",
        "        with input_path.open(encoding=\"utf-8\") as f:\n",
        "            raw_data = f.readlines()\n",
        "\n",
        "    except FileNotFoundError:\n",
        "        print(f\"The file '{INPUT_FILE}' wasn't found.\")\n",
        "        return # Exit if the input file is missing #\n",
        "\n",
        "    print(f\"Processing {len(raw_data)} lines from raw data...\")\n",
        "\n",
        "    for line in raw_data:\n",
        "        line = line.strip()\n",
        "        if not line:\n",
        "            continue # Skip lines that don't match the regex #\n",
        "\n",
        "        match = LINE_PARSER_REGEX.match(line)\n",
        "\n",
        "        if not match:\n",
        "            continue\n",
        "\n",
        "        name, email, raw_phone = None, None, None\n",
        "\n",
        "# Logic to extract fields based on which regex alternative matched #\n",
        "        if match.group(1):\n",
        "            name = match.group(1).strip().strip('\"')\n",
        "            email = match.group(2).strip()\n",
        "            raw_phone = match.group(3).strip()\n",
        "        elif match.group(4):\n",
        "            name = match.group(4).strip()\n",
        "            email = match.group(5).strip()\n",
        "            raw_phone = match.group(6).strip()\n",
        "\n",
        "\n",
        "        if not all([name, email, raw_phone]):\n",
        "            continue\n",
        "\n",
        "        if is_valid_email(email): # Process only if the email is valid #\n",
        "\n",
        "            email_key = email.casefold()\n",
        "\n",
        "            if email_key not in seen_emails: # Check for duplicate entry #\n",
        "\n",
        "                clean_phone = phone_cleaner(raw_phone)\n",
        "\n",
        "                final_contacts.append({ # Add the clean, unique contact #\n",
        "                    'name': name,\n",
        "                    'email': email,\n",
        "                    'phone': clean_phone\n",
        "                })\n",
        "\n",
        "                seen_emails.add(email_key)\n",
        "\n",
        "    print(f\"Finished processing. Found {len(final_contacts)} unique and valid contacts.\")\n",
        "\n",
        "# CSV Output Section #\n",
        "    output_path = Path(OUTPUT_FILE)\n",
        "\n",
        "\n",
        "    csv_content = [\"name,email,phone\"] # Add CSV header #\n",
        "\n",
        "    for contact in final_contacts:\n",
        "        row = f'\"{contact[\"name\"]}\",{contact[\"email\"]},{contact[\"phone\"]}'\n",
        "        csv_content.append(row)\n",
        "\n",
        "    try:\n",
        "        with output_path.open(\"w\", encoding=\"utf-8\") as f:\n",
        "            f.write('\\n'.join(csv_content))\n",
        "        print(f\"Success Clean data written to '{OUTPUT_FILE}'.\")\n",
        "    except Exception as e:\n",
        "        print(f\" Error writing CSV: {e}\")\n",
        "\n",
        "\n",
        "if __name__ == \"__main__\":\n",
        "    run_cleanup() # Execute the main function #"
      ],
      "metadata": {
        "id": "gO9xaHmKNlax",
        "colab": {
          "base_uri": "https://localhost:8080/"
        },
        "outputId": "5e4456b2-a47d-4cb7-d6a5-de0c00c22b5b"
      },
      "id": "gO9xaHmKNlax",
      "execution_count": 8,
      "outputs": [
        {
          "output_type": "stream",
          "name": "stdout",
          "text": [
            "Processing 7 lines from raw data...\n",
            "Finished processing. Found 4 unique and valid contacts.\n",
            "Success Clean data written to 'contacts_clean.csv'.\n"
          ]
        }
      ]
    },
    {
      "cell_type": "markdown",
      "id": "258c5b04",
      "metadata": {
        "id": "258c5b04"
      },
      "source": [
        "## Q2 (1.5 pts) — Unit testing with `unittest`\n",
        "Create tests in `test_crm_cleanup.py` that cover at least:\n",
        "\n",
        "1. **Email validation**: valid/invalid variations.  \n",
        "2. **Phone normalization**: parentheses, dashes, spaces, country code; too-short cases.  \n",
        "3. **Parsing**: from a small multi-line string (not from a file), assert the exact structured rows (name/email/phone).  \n",
        "4. **De-duplication**: demonstrate that a case-variant duplicate email is dropped (first occurrence kept).\n",
        "\n",
        "\n"
      ]
    },
    {
      "cell_type": "code",
      "source": [
        "import unittest\n",
        "import re\n",
        "\n",
        "# Configuration Constants #\n",
        "EMAIL_REGEX = r\"[A-Za-z0-9._%+-]+@[A-Za-z0-9.-]+\\.[A-Za-z]{2,}\"\n",
        "\n",
        "# Regex compiled to parse the two different raw contact line formats #\n",
        "LINE_PARSER_REGEX = re.compile(\n",
        "    r'(\"?.+?\"?)\\s*<([a-zA-Z0-9._%+-]+[\\[\\]@a-zA-Z0-9.-]+)> \\s*,\\s*(.+)|'\n",
        "    r'(.+?) \\s*,\\s*([a-zA-Z0-9._%+-]+@[a-zA-Z0-9.-]+\\.[a-zA-Z]{2,}) \\s*,\\s*(.+)'\n",
        ")\n",
        "\n",
        "def phone_cleaner(raw_number):\n",
        "  # Function to normalize and extract the last 10 digits of a phone number #\n",
        "    \"\"\"\n",
        "    Normalizes the phone number. (Copied from Q1)\n",
        "    \"\"\"\n",
        "    digits = re.sub(r\"\\D\", \"\", raw_number)\n",
        "\n",
        "    if len(digits) >= 10:\n",
        "        return digits[-10:]\n",
        "    else:\n",
        "        return \"\"\n",
        "\n",
        "def is_valid_email(email_str):\n",
        "  # Function to validate an email using a full regex match #\n",
        "    \"\"\"\n",
        "    Checks if an email is valid using the required full-match regex. (Copied from Q1)\n",
        "    \"\"\"\n",
        "    return re.fullmatch(EMAIL_REGEX, email_str.strip()) is not None\n",
        "\n",
        "\n",
        "class TestCRMCleanup(unittest.TestCase):\n",
        "  # Class containing unit tests for the cleaning functions #\n",
        "\n",
        "    def test_email_validation(self):\n",
        "      # Test cases for valid and invalid email addresses #\n",
        "        \"\"\"\n",
        "        Test cases for valid and invalid email addresses using is_valid_email.\n",
        "        \"\"\"\n",
        "        self.assertTrue(is_valid_email(\"alice@example.com\"))\n",
        "        self.assertTrue(is_valid_email(\"mehdi.ay@example.org\"))\n",
        "        self.assertTrue(is_valid_email(\"NIMA@example.io\"))\n",
        "\n",
        "        self.assertFalse(is_valid_email(\"bob[at]example.com\"), \"Email with [at] should be invalid\")\n",
        "        self.assertFalse(is_valid_email(\"missingatsign.com\"))\n",
        "        self.assertFalse(is_valid_email(\"user@.com\"))\n",
        "        self.assertFalse(is_valid_email(\"user@domain.\"))\n",
        "\n",
        "\n",
        "    def test_phone_normalization(self):\n",
        "      # Test cases for phone_cleaner with various formats and lengths #\n",
        "        \"\"\"\n",
        "        Test cases for phone_cleaner with different formats and lengths.\n",
        "        \"\"\"\n",
        "        self.assertEqual(phone_cleaner(\"+1 (469) 555-1234\"), \"4695551234\")\n",
        "        self.assertEqual(phone_cleaner(\"972-777-2121\"), \"9727772121\")\n",
        "        self.assertEqual(phone_cleaner(\"(469)555-9999\"), \"4695559999\")\n",
        "\n",
        "        self.assertEqual(phone_cleaner(\"+1 972 777 2121\"), \"9727772121\")\n",
        "\n",
        "        self.assertEqual(phone_cleaner(\"123-4567\"), \"\")\n",
        "        self.assertEqual(phone_cleaner(\"\"), \"\")\n",
        "\n",
        "\n",
        "    def test_parsing_and_deduplication(self):\n",
        "      # Tests regex parsing and case-insensitive de-duplication logic #\n",
        "        \"\"\"\n",
        "        Tests parsing of a small input string and ensures case-insensitive de-duplication works.\n",
        "        \"\"\"\n",
        "        raw_input_data = (\n",
        "            'Alice Johnson <alice@example.com> , +1 (469) 555-1234\\n'\n",
        "            'Sara M. , sara@mail.co , 214 555 8888\\n'\n",
        "            'Mehdi <MEHDI@example.org> , 469.555.9999\\n'\n",
        "            'duplicate <Alice@Example.com> , 469 555 1234'\n",
        "        )\n",
        "\n",
        "        final_rows = []\n",
        "        seen_emails_casefold = set() # Set for tracking emails case-insensitively #\n",
        "\n",
        "        for line in raw_input_data.strip().split('\\n'): # Iterate over each test data line #\n",
        "            line = line.strip()\n",
        "            match = LINE_PARSER_REGEX.match(line)\n",
        "\n",
        "            name, email, raw_phone = None, None, None\n",
        "            if match:\n",
        "              # Logic to extract fields based on which regex alternative matched #\n",
        "                if match.group(1):\n",
        "                    name, email, raw_phone = match.group(1).strip().strip('\"'), match.group(2).strip(), match.group(3).strip()\n",
        "                elif match.group(4):\n",
        "                    name, email, raw_phone = match.group(4).strip(), match.group(5).strip(), match.group(6).strip()\n",
        "\n",
        "            if name and email and raw_phone and is_valid_email(email): # Ensure data is complete and email is valid #\n",
        "                email_key = email.casefold() # Normalize email to check for duplicates #\n",
        "\n",
        "                if email_key not in seen_emails_casefold: # Check for duplicate entry #\n",
        "                    clean_phone = phone_cleaner(raw_phone)\n",
        "                    final_rows.append({'name': name, 'email': email, 'phone': clean_phone})\n",
        "                    seen_emails_casefold.add(email_key) # Add normalized email to seen set #\n",
        "\n",
        "        expected_rows = [\n",
        "            {'name': 'Alice Johnson', 'email': 'alice@example.com', 'phone': '4695551234'},\n",
        "            {'name': 'Sara M.', 'email': 'sara@mail.co', 'phone': '2145558888'},\n",
        "            {'name': 'Mehdi', 'email': 'MEHDI@example.org', 'phone': '4695559999'}\n",
        "        ]\n",
        "\n",
        "        self.assertEqual(len(final_rows), 3, \"Only 3 unique, valid contacts should remain after filtering/deduplication.\") # Assert final count #\n",
        "        self.assertEqual(final_rows, expected_rows, \"Parsed rows and deduplication failed to match expected output!\") # Assert final count #\n",
        "\n",
        "\n",
        "if __name__ == '__main__':\n",
        "  # Run the unit tests when the script is executed #\n",
        "    unittest.main(argv=['first-arg-is-ignored'], exit=False)"
      ],
      "metadata": {
        "id": "_M18cJw2NqZm",
        "colab": {
          "base_uri": "https://localhost:8080/"
        },
        "outputId": "31666e07-c9a3-4fea-8237-84eff0c02d7f"
      },
      "id": "_M18cJw2NqZm",
      "execution_count": 12,
      "outputs": [
        {
          "output_type": "stream",
          "name": "stderr",
          "text": [
            "...\n",
            "----------------------------------------------------------------------\n",
            "Ran 3 tests in 0.004s\n",
            "\n",
            "OK\n"
          ]
        }
      ]
    },
    {
      "cell_type": "markdown",
      "id": "f38af38b",
      "metadata": {
        "id": "f38af38b"
      },
      "source": [
        "## Grading rubric (total 3 pts)\n",
        "- **Q1 (1.5 pts)**  \n",
        "  - (0.4) File I/O with `pathlib` + graceful `FileNotFoundError` handling  \n",
        "  - (0.5) Email validation (regex + strip + full match) and filtering  \n",
        "  - (0.4) Phone normalization and **case-insensitive** de-duplication (keep first)  \n",
        "  - (0.2) Code clarity (names, minimal docstrings/comments)\n",
        "- **Q2 (1.5 pts)**  \n",
        "  - (0.6) Meaningful coverage for email/phone functions (valid & invalid)  \n",
        "  - (0.6) Parsing & de-dup tests that assert exact expected rows  \n",
        "  - (0.3) Standard `unittest` structure and readable test names\n"
      ]
    }
  ],
  "metadata": {
    "colab": {
      "provenance": [],
      "include_colab_link": true
    },
    "language_info": {
      "name": "python"
    },
    "kernelspec": {
      "name": "python3",
      "display_name": "Python 3"
    }
  },
  "nbformat": 4,
  "nbformat_minor": 5
}