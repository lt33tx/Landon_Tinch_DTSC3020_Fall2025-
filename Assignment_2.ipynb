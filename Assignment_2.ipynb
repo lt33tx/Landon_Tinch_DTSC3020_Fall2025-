{
  "nbformat": 4,
  "nbformat_minor": 0,
  "metadata": {
    "colab": {
      "provenance": [],
      "authorship_tag": "ABX9TyOtk8qJ2zHuLZJDnCy/jgfO",
      "include_colab_link": true
    },
    "kernelspec": {
      "name": "python3",
      "display_name": "Python 3"
    },
    "language_info": {
      "name": "python"
    }
  },
  "cells": [
    {
      "cell_type": "markdown",
      "metadata": {
        "id": "view-in-github",
        "colab_type": "text"
      },
      "source": [
        "<a href=\"https://colab.research.google.com/github/lt33tx/Landon_Tinch_DTSC3020_Fall2025-/blob/main/Assignment_2.ipynb\" target=\"_parent\"><img src=\"https://colab.research.google.com/assets/colab-badge.svg\" alt=\"Open In Colab\"/></a>"
      ]
    },
    {
      "cell_type": "code",
      "execution_count": null,
      "metadata": {
        "colab": {
          "base_uri": "https://localhost:8080/"
        },
        "id": "30MZhR7LDnhQ",
        "outputId": "29f16c39-4ecf-47dd-8f70-05be0e6eda41"
      },
      "outputs": [
        {
          "output_type": "stream",
          "name": "stdout",
          "text": [
            "['apple', 'banana', 'orange']\n",
            "apple\n",
            "banana\n",
            "orange\n"
          ]
        }
      ],
      "source": [
        "fruits = [\"apple\", \"banana\", \"orange\"]\n",
        "print(fruits)\n",
        "\n",
        "print(fruits[0])\n",
        "print(fruits[1])\n",
        "print(fruits[2])"
      ]
    },
    {
      "cell_type": "code",
      "source": [
        "names = [\"Bob\", \"David, Pual\", \"steve\"]\n",
        "names[0] = \"Rose\"\n",
        "print(names)"
      ],
      "metadata": {
        "colab": {
          "base_uri": "https://localhost:8080/"
        },
        "id": "aNSiXHOcEaEq",
        "outputId": "639ae033-db4e-40e3-882d-504df9ec480e"
      },
      "execution_count": 1,
      "outputs": [
        {
          "output_type": "stream",
          "name": "stdout",
          "text": [
            "['Rose', 'David, Pual', 'steve']\n"
          ]
        }
      ]
    },
    {
      "cell_type": "code",
      "source": [
        "vehicles = [\"car\", \"bus\", \"bike\", \"train\", \"truck\"]\n",
        "vehicles.append(\"scooter\")\n",
        "print(vehicles)"
      ],
      "metadata": {
        "colab": {
          "base_uri": "https://localhost:8080/"
        },
        "id": "sdlpxp_qE53s",
        "outputId": "7b3e66f5-1257-4bbd-f0fc-0c3be4c35415"
      },
      "execution_count": null,
      "outputs": [
        {
          "output_type": "stream",
          "name": "stdout",
          "text": [
            "['car', 'bus', 'bike', 'train', 'truck', 'scooter']\n"
          ]
        }
      ]
    },
    {
      "cell_type": "code",
      "source": [
        "foods = [\"pizza\", \"burger\", \"pasta\", \"salad\", \"rice\", \"noodles\"]\n",
        "foods.remove(\"salad\")\n",
        "print(foods)"
      ],
      "metadata": {
        "colab": {
          "base_uri": "https://localhost:8080/"
        },
        "id": "7MzR3EyzFO4k",
        "outputId": "28883f51-ef31-4394-9330-7e791b5ceee2"
      },
      "execution_count": null,
      "outputs": [
        {
          "output_type": "stream",
          "name": "stdout",
          "text": [
            "['pizza', 'burger', 'pasta', 'rice', 'noodles']\n"
          ]
        }
      ]
    },
    {
      "cell_type": "code",
      "source": [
        "cities = [\"Dallas\", \"Austin\", \"Houston\", \"San Antonio\"]\n",
        "\n",
        "cities.sort()\n",
        "print(cities)\n",
        "\n",
        "cities.reverse()\n",
        "print(cities)"
      ],
      "metadata": {
        "colab": {
          "base_uri": "https://localhost:8080/"
        },
        "id": "td9bFqfSdC8G",
        "outputId": "e372c41a-aa6c-4bca-ed35-c1ff4c864789"
      },
      "execution_count": null,
      "outputs": [
        {
          "output_type": "stream",
          "name": "stdout",
          "text": [
            "['Austin', 'Dallas', 'Houston', 'San Antonio']\n",
            "['San Antonio', 'Houston', 'Dallas', 'Austin']\n"
          ]
        }
      ]
    },
    {
      "cell_type": "code",
      "source": [
        "animals = [\"dog\", \"cat\", \"rabbit\"]\n",
        "\n",
        "for animal in animals:\n",
        "    print(animal)"
      ],
      "metadata": {
        "colab": {
          "base_uri": "https://localhost:8080/"
        },
        "id": "Wrj2pCxydbl6",
        "outputId": "423d7b18-4c42-411e-afbd-ec63d62224d4"
      },
      "execution_count": null,
      "outputs": [
        {
          "output_type": "stream",
          "name": "stdout",
          "text": [
            "dog\n",
            "cat\n",
            "rabbit\n"
          ]
        }
      ]
    },
    {
      "cell_type": "code",
      "source": [
        "numbers = [1, 2, 3, 4, 5]\n",
        "\n",
        "for num in numbers:\n",
        "    print(num * 2)"
      ],
      "metadata": {
        "colab": {
          "base_uri": "https://localhost:8080/"
        },
        "id": "8_2drMlydsVj",
        "outputId": "ba512338-1c42-47af-9934-299dc22fa72e"
      },
      "execution_count": null,
      "outputs": [
        {
          "output_type": "stream",
          "name": "stdout",
          "text": [
            "2\n",
            "4\n",
            "6\n",
            "8\n",
            "10\n"
          ]
        }
      ]
    },
    {
      "cell_type": "code",
      "source": [
        "friends = [\"Alice\", \"Bob\", \"Charlie\", \"Diana\", \"Eve\", \"Frank\"]\n",
        "\n",
        "print(friends[:3])\n",
        "print(friends[-3:])"
      ],
      "metadata": {
        "colab": {
          "base_uri": "https://localhost:8080/"
        },
        "id": "TQGZkV5Bd9ye",
        "outputId": "511a8148-a462-4225-fd9b-1e6f19d9fae2"
      },
      "execution_count": null,
      "outputs": [
        {
          "output_type": "stream",
          "name": "stdout",
          "text": [
            "['Alice', 'Bob', 'Charlie']\n",
            "['Diana', 'Eve', 'Frank']\n"
          ]
        }
      ]
    },
    {
      "cell_type": "code",
      "source": [
        "nums = list(range(1, 11))\n",
        "print(nums)"
      ],
      "metadata": {
        "colab": {
          "base_uri": "https://localhost:8080/"
        },
        "id": "BD_2PRVZfHDG",
        "outputId": "0fc27c7a-21ff-4d84-bcf4-d9fbc75bb957"
      },
      "execution_count": null,
      "outputs": [
        {
          "output_type": "stream",
          "name": "stdout",
          "text": [
            "[1, 2, 3, 4, 5, 6, 7, 8, 9, 10]\n"
          ]
        }
      ]
    },
    {
      "cell_type": "code",
      "source": [
        "squares = [x**2 for x in range(1, 6)]\n",
        "print(squares)"
      ],
      "metadata": {
        "colab": {
          "base_uri": "https://localhost:8080/"
        },
        "id": "rHC_CTZYfP6f",
        "outputId": "7f30ac82-1526-4fec-c76d-4580405b21ef"
      },
      "execution_count": null,
      "outputs": [
        {
          "output_type": "stream",
          "name": "stdout",
          "text": [
            "[1, 4, 9, 16, 25]\n"
          ]
        }
      ]
    },
    {
      "cell_type": "code",
      "source": [],
      "metadata": {
        "id": "yxxaLViEfZWz"
      },
      "execution_count": null,
      "outputs": []
    }
  ]
}