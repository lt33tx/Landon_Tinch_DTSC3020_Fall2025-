{
  "nbformat": 4,
  "nbformat_minor": 0,
  "metadata": {
    "colab": {
      "provenance": [],
      "include_colab_link": true
    },
    "kernelspec": {
      "name": "python3",
      "display_name": "Python 3"
    },
    "language_info": {
      "name": "python"
    }
  },
  "cells": [
    {
      "cell_type": "markdown",
      "metadata": {
        "id": "view-in-github",
        "colab_type": "text"
      },
      "source": [
        "<a href=\"https://colab.research.google.com/github/lt33tx/Landon_Tinch_DTSC3020_Fall2025-/blob/main/Student_In_Class_Assignment_Ch_6.ipynb\" target=\"_parent\"><img src=\"https://colab.research.google.com/assets/colab-badge.svg\" alt=\"Open In Colab\"/></a>"
      ]
    },
    {
      "cell_type": "markdown",
      "source": [
        "### ✅ Final Class Exercise: Library Borrowing (using key-value)\n",
        "You are given a dictionary that shows how many books each student has borrowed. Write a Python program to:\n",
        "1.  Print the names of students who borrowed more than 2 books.\n",
        "2. calculate the total number of borrowed books.\n"
      ],
      "metadata": {
        "id": "p337feJZG6g0"
      }
    },
    {
      "cell_type": "code",
      "source": [
        "borrowed_books = {\n",
        "    'Ali': 1,\n",
        "    'Sara': 3,\n",
        "    'Reza': 0,\n",
        "    'Lina': 4,\n",
        "    'Omid': 2\n",
        "}\n",
        "\n",
        "# write your answer here part 1\n",
        "\n",
        "students_2_books = []\n",
        "\n",
        "for student, books in borrowed_books.items():\n",
        "    if books > 2:\n",
        "        students_2_books.append(student)\n",
        "\n",
        "print(students_2_books)\n",
        "\n",
        "\n",
        "\n",
        "\n",
        "\n",
        "# write your answer here part 2\n",
        "\n",
        "total_books = 0\n",
        "\n",
        "for books in borrowed_books.values():\n",
        "    total_books += books\n",
        "\n",
        "print(total_books)\n",
        "\n",
        "\n"
      ],
      "metadata": {
        "id": "OibWnbqOG_cX",
        "colab": {
          "base_uri": "https://localhost:8080/"
        },
        "outputId": "0be61c66-99c2-4c96-d93e-b8d9eb999b11"
      },
      "execution_count": 3,
      "outputs": [
        {
          "output_type": "stream",
          "name": "stdout",
          "text": [
            "['Sara', 'Lina']\n",
            "10\n"
          ]
        }
      ]
    },
    {
      "cell_type": "code",
      "source": [],
      "metadata": {
        "id": "u6aSVPMWV4OY"
      },
      "execution_count": null,
      "outputs": []
    }
  ]
}