{
  "nbformat": 4,
  "nbformat_minor": 0,
  "metadata": {
    "colab": {
      "provenance": [],
      "authorship_tag": "ABX9TyOwlUFQn2m28WiBg5atlACp",
      "include_colab_link": true
    },
    "kernelspec": {
      "name": "python3",
      "display_name": "Python 3"
    },
    "language_info": {
      "name": "python"
    }
  },
  "cells": [
    {
      "cell_type": "markdown",
      "metadata": {
        "id": "view-in-github",
        "colab_type": "text"
      },
      "source": [
        "<a href=\"https://colab.research.google.com/github/lt33tx/Landon_Tinch_DTSC3020_Fall2025-/blob/main/Homework_5.ipynb\" target=\"_parent\"><img src=\"https://colab.research.google.com/assets/colab-badge.svg\" alt=\"Open In Colab\"/></a>"
      ]
    },
    {
      "cell_type": "markdown",
      "source": [
        "Question 1. Load the digits dataset from sklearn.datasets (10)"
      ],
      "metadata": {
        "id": "0_6S0ItnX0p8"
      }
    },
    {
      "cell_type": "code",
      "execution_count": 7,
      "metadata": {
        "id": "CULAuEfU3wtk",
        "colab": {
          "base_uri": "https://localhost:8080/"
        },
        "outputId": "9ff6269a-2623-4bae-f3f6-23aff1c129b4"
      },
      "outputs": [
        {
          "output_type": "stream",
          "name": "stdout",
          "text": [
            "Digits dataset loaded.\n"
          ]
        }
      ],
      "source": [
        "import numpy as np\n",
        "from sklearn.datasets import load_digits\n",
        "from sklearn.model_selection import train_test_split\n",
        "from sklearn.linear_model import LogisticRegression\n",
        "from collections import Counter\n",
        "\n",
        "# Load the digits dataset\n",
        "digits = load_digits()\n",
        "\n",
        "print(\"Digits dataset loaded.\")"
      ]
    },
    {
      "cell_type": "markdown",
      "source": [
        "Question 2. Print the shape of the data (10)"
      ],
      "metadata": {
        "id": "SzvE1UBIX4Ay"
      }
    },
    {
      "cell_type": "code",
      "source": [
        "# Prepare data variables\n",
        "X = digits.data\n",
        "y = digits.target\n",
        "\n",
        "# Print the shape of the feature data (samples, features)\n",
        "print(f\"Data shape: {X.shape}\")"
      ],
      "metadata": {
        "colab": {
          "base_uri": "https://localhost:8080/"
        },
        "id": "NlGv2dCNXpTz",
        "outputId": "e15b4329-899b-4081-93cf-2e764ee1d6bc"
      },
      "execution_count": 8,
      "outputs": [
        {
          "output_type": "stream",
          "name": "stdout",
          "text": [
            "Data shape: (1797, 64)\n"
          ]
        }
      ]
    },
    {
      "cell_type": "markdown",
      "source": [
        "Question 3. What is the distribution of class values (samples per class)? (15)"
      ],
      "metadata": {
        "id": "16i93Dh1X6fe"
      }
    },
    {
      "cell_type": "code",
      "source": [
        "# Find unique target values and their counts\n",
        "unique, counts = np.unique(y, return_counts=True)\n",
        "class_distribution = dict(zip(unique, counts))\n",
        "\n",
        "print(f\"Class Distribution: {class_distribution}\")"
      ],
      "metadata": {
        "colab": {
          "base_uri": "https://localhost:8080/"
        },
        "id": "Ze2ZjQpRXtsz",
        "outputId": "94b583aa-a193-45d1-cfbb-350bf60dd0cb"
      },
      "execution_count": 9,
      "outputs": [
        {
          "output_type": "stream",
          "name": "stdout",
          "text": [
            "Class Distribution: {np.int64(0): np.int64(178), np.int64(1): np.int64(182), np.int64(2): np.int64(177), np.int64(3): np.int64(183), np.int64(4): np.int64(181), np.int64(5): np.int64(182), np.int64(6): np.int64(181), np.int64(7): np.int64(179), np.int64(8): np.int64(174), np.int64(9): np.int64(180)}\n"
          ]
        }
      ]
    },
    {
      "cell_type": "markdown",
      "source": [
        "Question 4. What are the target class values? (15)"
      ],
      "metadata": {
        "id": "XO18axEUX9S_"
      }
    },
    {
      "cell_type": "code",
      "source": [
        "# Print the names of the target classes (the digits 0 through 9)\n",
        "print(f\"Target Classes: {digits.target_names}\")"
      ],
      "metadata": {
        "colab": {
          "base_uri": "https://localhost:8080/"
        },
        "id": "5FpdAm_SXvOi",
        "outputId": "3196b085-bdc8-42de-a731-54f89261161d"
      },
      "execution_count": 10,
      "outputs": [
        {
          "output_type": "stream",
          "name": "stdout",
          "text": [
            "Target Classes: [0 1 2 3 4 5 6 7 8 9]\n"
          ]
        }
      ]
    },
    {
      "cell_type": "markdown",
      "source": [
        "Question 5. Split the data into training (80%) and test data (20%) (15)"
      ],
      "metadata": {
        "id": "HlBs914IYAjz"
      }
    },
    {
      "cell_type": "code",
      "source": [
        "# Split data into 80% training and 20% test sets\n",
        "X_train, X_test, y_train, y_test = train_test_split(\n",
        "    X, y, test_size=0.2, random_state=42\n",
        ")\n",
        "\n",
        "print(f\"Train/Test split confirmed: X_train shape {X_train.shape}, X_test shape {X_test.shape}\")"
      ],
      "metadata": {
        "colab": {
          "base_uri": "https://localhost:8080/"
        },
        "id": "ULoS0YmVXxqe",
        "outputId": "d6fdba39-899a-42d0-ce07-c13d3fcf74e7"
      },
      "execution_count": 11,
      "outputs": [
        {
          "output_type": "stream",
          "name": "stdout",
          "text": [
            "Train/Test split confirmed: X_train shape (1437, 64), X_test shape (360, 64)\n"
          ]
        }
      ]
    },
    {
      "cell_type": "markdown",
      "source": [
        "Question 6. Train a Logistic regression model (20)"
      ],
      "metadata": {
        "id": "jHCJWfFbZIfu"
      }
    },
    {
      "cell_type": "code",
      "source": [
        "# Initialize and train the Logistic Regression model\n",
        "# Using max_iter=5000 for guaranteed convergence\n",
        "model = LogisticRegression(solver='lbfgs', max_iter=5000, random_state=42)\n",
        "model.fit(X_train, y_train)\n",
        "\n",
        "print(\"Logistic Regression Model Training Complete.\")\n"
      ],
      "metadata": {
        "colab": {
          "base_uri": "https://localhost:8080/"
        },
        "id": "WWdmBznxZDoD",
        "outputId": "976fbef4-f1fd-4020-c167-2ea3e5318f7e"
      },
      "execution_count": 12,
      "outputs": [
        {
          "output_type": "stream",
          "name": "stdout",
          "text": [
            "Logistic Regression Model Training Complete.\n"
          ]
        }
      ]
    },
    {
      "cell_type": "markdown",
      "source": [
        "Question 7: Evaluate the training and testset performance of your model. (15)"
      ],
      "metadata": {
        "id": "jlQToq4qZPWr"
      }
    },
    {
      "cell_type": "code",
      "source": [
        "# Evaluate model accuracy on the training set\n",
        "train_accuracy = model.score(X_train, y_train)\n",
        "\n",
        "# Evaluate model accuracy on the test set\n",
        "test_accuracy = model.score(X_test, y_test)\n",
        "\n",
        "print(\"-\" * 30)\n",
        "print(\"Model Evaluation Results:\")\n",
        "print(f\"Training Accuracy: {train_accuracy:.4f}\")\n",
        "print(f\"Test Accuracy:     {test_accuracy:.4f}\")\n",
        "print(\"-\" * 30)"
      ],
      "metadata": {
        "colab": {
          "base_uri": "https://localhost:8080/"
        },
        "id": "3GqlQwd6ZMUx",
        "outputId": "9135a1e3-023c-4ef8-d563-e0c6f8e6833c"
      },
      "execution_count": 13,
      "outputs": [
        {
          "output_type": "stream",
          "name": "stdout",
          "text": [
            "------------------------------\n",
            "Model Evaluation Results:\n",
            "Training Accuracy: 1.0000\n",
            "Test Accuracy:     0.9750\n",
            "------------------------------\n"
          ]
        }
      ]
    },
    {
      "cell_type": "code",
      "source": [],
      "metadata": {
        "id": "f8FB-d67ZR6S"
      },
      "execution_count": null,
      "outputs": []
    }
  ]
}