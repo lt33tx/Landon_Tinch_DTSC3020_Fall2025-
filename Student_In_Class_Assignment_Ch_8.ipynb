{
  "nbformat": 4,
  "nbformat_minor": 0,
  "metadata": {
    "colab": {
      "provenance": [],
      "include_colab_link": true
    },
    "kernelspec": {
      "name": "python3",
      "display_name": "Python 3"
    },
    "language_info": {
      "name": "python"
    }
  },
  "cells": [
    {
      "cell_type": "markdown",
      "metadata": {
        "id": "view-in-github",
        "colab_type": "text"
      },
      "source": [
        "<a href=\"https://colab.research.google.com/github/lt33tx/Landon_Tinch_DTSC3020_Fall2025-/blob/main/Student_In_Class_Assignment_Ch_8.ipynb\" target=\"_parent\"><img src=\"https://colab.research.google.com/assets/colab-badge.svg\" alt=\"Open In Colab\"/></a>"
      ]
    },
    {
      "cell_type": "markdown",
      "source": [
        "##Final Class Exercise"
      ],
      "metadata": {
        "id": "51gCuC6VJ3gu"
      }
    },
    {
      "cell_type": "markdown",
      "source": [
        "Write a Python function create_email(full_name) that builds a UNT email in the format\n",
        "firstname.lastname@my.unt.edu.\n",
        "\n",
        "Rules\n",
        "\n",
        " • Use the first and last word from full_name (case-insensitive).\n",
        "\n",
        " • Convert everything to lowercase.\n",
        "\n",
        " • If there is only one word, use it twice (e.g., \"ali\" → ali.ali@my.unt.edu).\n",
        "\n",
        " • Return the email string.\n",
        "\n",
        "\n",
        "Constraints\n",
        "\n",
        " • Use a function and return.\n",
        "\n",
        " • Do not use input() or external libraries.\n",
        "\n",
        "\n",
        " test your code with this list\n",
        " names = [\n",
        "    \"Sara Amini\",\n",
        "    \"Ali\",\n",
        "    \"Mary Jane\",\n",
        "    \"  John   Smith  \",\n",
        "    \"LINA\",\n",
        "    \"madonna\",\n",
        "    \"  sara   amini  \"\n",
        "]"
      ],
      "metadata": {
        "id": "7pxJ6i3jH7Yq"
      }
    },
    {
      "cell_type": "code",
      "source": [
        "# Write your solution here.\n",
        "\n",
        "def create_email(full_name):\n",
        "    cleaned_name = full_name.strip().lower()\n",
        "    words = cleaned_name.split()\n",
        "\n",
        "    if len(words) == 0:\n",
        "        return \"@my.unt.edu\"\n",
        "    elif len(words) == 1:\n",
        "        first_name = words[0]\n",
        "        last_name = words[0]\n",
        "    else:\n",
        "        first_name = words[0]\n",
        "        last_name = words[-1]\n",
        "\n",
        "    email = f\"{first_name}.{last_name}@my.unt.edu\"\n",
        "    return email\n",
        "\n",
        "# The list 'names' must be outside and after the function definition\n",
        "names = [\n",
        "    \"Sara Amini\",\n",
        "    \"Ali\",\n",
        "    \"Mary Jane\",\n",
        "    \" John Smith \",\n",
        "    \"LINA\",\n",
        "    \"madonna\",\n",
        "    \" sara amini \"\n",
        "]\n",
        "\n",
        "print(\"UNT Email Generation Results:\")\n",
        "print(\"-\" * 35)\n",
        "\n",
        "for name in names:\n",
        "    email_address = create_email(name)\n",
        "    print(f\"Name: '{name}'\".ljust(20) + f\"| Email: {email_address}\")"
      ],
      "metadata": {
        "id": "6jcH9Qm_IXWh",
        "colab": {
          "base_uri": "https://localhost:8080/"
        },
        "outputId": "69f4a6a0-ed31-4261-f6ce-7c973c5fb222"
      },
      "execution_count": 8,
      "outputs": [
        {
          "output_type": "stream",
          "name": "stdout",
          "text": [
            "UNT Email Generation Results:\n",
            "-----------------------------------\n",
            "Name: 'Sara Amini'  | Email: sara.amini@my.unt.edu\n",
            "Name: 'Ali'         | Email: ali.ali@my.unt.edu\n",
            "Name: 'Mary Jane'   | Email: mary.jane@my.unt.edu\n",
            "Name: ' John Smith '| Email: john.smith@my.unt.edu\n",
            "Name: 'LINA'        | Email: lina.lina@my.unt.edu\n",
            "Name: 'madonna'     | Email: madonna.madonna@my.unt.edu\n",
            "Name: ' sara amini '| Email: sara.amini@my.unt.edu\n"
          ]
        }
      ]
    },
    {
      "cell_type": "code",
      "source": [],
      "metadata": {
        "id": "ARnlPabG6de2"
      },
      "execution_count": null,
      "outputs": []
    }
  ]
}