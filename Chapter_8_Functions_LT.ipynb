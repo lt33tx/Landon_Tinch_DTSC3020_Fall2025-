{
  "cells": [
    {
      "cell_type": "markdown",
      "metadata": {
        "id": "view-in-github",
        "colab_type": "text"
      },
      "source": [
        "<a href=\"https://colab.research.google.com/github/lt33tx/Landon_Tinch_DTSC3020_Fall2025-/blob/main/Chapter_8_Functions_LT.ipynb\" target=\"_parent\"><img src=\"https://colab.research.google.com/assets/colab-badge.svg\" alt=\"Open In Colab\"/></a>"
      ]
    },
    {
      "cell_type": "markdown",
      "id": "4d6bc7e2",
      "metadata": {
        "id": "4d6bc7e2"
      },
      "source": [
        "# Part 1 — Introduction to Functions in Python"
      ]
    },
    {
      "cell_type": "markdown",
      "id": "0c630828",
      "metadata": {
        "id": "0c630828"
      },
      "source": [
        "### What is a Function?\n",
        "- A function is a reusable block of code that performs a specific task.\n",
        "- It helps you avoid repetition and makes programs easier to read and maintain.\n"
      ]
    },
    {
      "cell_type": "markdown",
      "id": "4c670614",
      "metadata": {
        "id": "4c670614"
      },
      "source": [
        "---\n",
        "\n",
        "### Why Use Functions?\n",
        "- To organize code into logical parts.\n",
        "- To reuse the same logic multiple times.\n",
        "- To make your code easier to test and debug.\n"
      ]
    },
    {
      "cell_type": "markdown",
      "id": "466ed08d",
      "metadata": {
        "id": "466ed08d"
      },
      "source": [
        "---\n",
        "\n",
        "### Function with Parameters\n"
      ]
    },
    {
      "cell_type": "code",
      "execution_count": 17,
      "id": "505c1080",
      "metadata": {
        "colab": {
          "base_uri": "https://localhost:8080/"
        },
        "id": "505c1080",
        "outputId": "041a7d69-ba98-4a99-d517-4d5d500abdc9"
      },
      "outputs": [
        {
          "output_type": "stream",
          "name": "stdout",
          "text": [
            "Hello, Sara!\n",
            "Hello, Ali!\n"
          ]
        }
      ],
      "source": [
        "def greet(name):\n",
        "    print(f\"Hello, {name}!\")\n",
        "\n",
        "greet(\"Sara\")\n",
        "greet(\"Ali\")"
      ]
    },
    {
      "cell_type": "markdown",
      "id": "5143f3ca",
      "metadata": {
        "id": "5143f3ca"
      },
      "source": [
        "---\n",
        "\n",
        "### Return Values\n",
        "You can use `return` inside a function to give back a result.\n",
        "\n",
        "#### Example 1: Using `return()`\n"
      ]
    },
    {
      "cell_type": "code",
      "execution_count": 2,
      "id": "9936805a",
      "metadata": {
        "colab": {
          "base_uri": "https://localhost:8080/"
        },
        "id": "9936805a",
        "outputId": "f233e0f5-cb01-41cc-f6f9-f7ac27d35f45"
      },
      "outputs": [
        {
          "output_type": "stream",
          "name": "stdout",
          "text": [
            "Result2 = 8\n"
          ]
        }
      ],
      "source": [
        "def add_return(a, b):\n",
        "    return a + b\n",
        "\n",
        "result2 = add_return(3, 5)\n",
        "print(\"Result2 =\", result2)\n",
        "#With return → the function gives back the value so it can be stored or used later."
      ]
    },
    {
      "cell_type": "markdown",
      "id": "0eb4df6b",
      "metadata": {
        "id": "0eb4df6b"
      },
      "source": [
        "---\n",
        "\n",
        "#### Example 2: Using `print`\n"
      ]
    },
    {
      "cell_type": "code",
      "execution_count": 3,
      "id": "9099cf3a",
      "metadata": {
        "colab": {
          "base_uri": "https://localhost:8080/"
        },
        "id": "9099cf3a",
        "outputId": "dc2fc8f2-2b07-43ea-bf70-99f0e892e1e9"
      },
      "outputs": [
        {
          "output_type": "stream",
          "name": "stdout",
          "text": [
            "8\n",
            "Result1 = None\n"
          ]
        }
      ],
      "source": [
        "def add_print(a, b):\n",
        "    print(a + b)\n",
        "\n",
        "result1 = add_print(3, 5)\n",
        "print(\"Result1 =\", result1)\n",
        "# With `print()` → the function shows the result on screen but `result1` will be `None`."
      ]
    },
    {
      "cell_type": "markdown",
      "id": "73e37745",
      "metadata": {
        "id": "73e37745"
      },
      "source": [
        "# Part 2 — Examples"
      ]
    },
    {
      "cell_type": "markdown",
      "id": "1ef2f503",
      "metadata": {
        "id": "1ef2f503"
      },
      "source": [
        "### Example 1: Square a Number\n",
        "Write a function that takes a number and returns its square."
      ]
    },
    {
      "cell_type": "code",
      "execution_count": 4,
      "id": "67b91f27",
      "metadata": {
        "colab": {
          "base_uri": "https://localhost:8080/"
        },
        "id": "67b91f27",
        "outputId": "f6649cfa-0a1b-4c64-af66-773329bc10e1"
      },
      "outputs": [
        {
          "output_type": "stream",
          "name": "stdout",
          "text": [
            "16\n",
            "81\n"
          ]
        }
      ],
      "source": [
        "def square(num):\n",
        "    return num ** 2\n",
        "\n",
        "print(square(4))\n",
        "print(square(9))"
      ]
    },
    {
      "cell_type": "markdown",
      "id": "21c5a145",
      "metadata": {
        "id": "21c5a145"
      },
      "source": [
        "---\n",
        "\n",
        "### Example 2: Check Even or Odd\n"
      ]
    },
    {
      "cell_type": "code",
      "execution_count": 5,
      "id": "dd6ed46e",
      "metadata": {
        "colab": {
          "base_uri": "https://localhost:8080/"
        },
        "id": "dd6ed46e",
        "outputId": "c3f44770-8261-4328-e74c-c7bf73345ad3"
      },
      "outputs": [
        {
          "output_type": "stream",
          "name": "stdout",
          "text": [
            "7 is Odd\n",
            "12 is Even\n"
          ]
        }
      ],
      "source": [
        "def check_even_odd(num):\n",
        "    if num % 2 == 0:\n",
        "        print(f\"{num} is Even\")\n",
        "    else:\n",
        "        print(f\"{num} is Odd\")\n",
        "\n",
        "check_even_odd(7)\n",
        "check_even_odd(12)"
      ]
    },
    {
      "cell_type": "markdown",
      "id": "e9db0f41",
      "metadata": {
        "id": "e9db0f41"
      },
      "source": [
        "Note:\n",
        "- `%` is the modulus operator. It gives the remainder of a division.\n",
        "- `num % 2` → remainder when num is divided by 2.\n",
        "- If remainder is 0 → number is even.\n",
        "- If remainder is 1 → number is odd.\n"
      ]
    },
    {
      "cell_type": "markdown",
      "id": "bfc18240",
      "metadata": {
        "id": "bfc18240"
      },
      "source": [
        "---\n",
        "\n",
        "### Example 3: Calculate Average of a List\n"
      ]
    },
    {
      "cell_type": "code",
      "execution_count": 18,
      "id": "be8f28f6",
      "metadata": {
        "colab": {
          "base_uri": "https://localhost:8080/"
        },
        "id": "be8f28f6",
        "outputId": "8c96c8e3-adfe-4d15-c707-fdb44b1e7491"
      },
      "outputs": [
        {
          "output_type": "stream",
          "name": "stdout",
          "text": [
            "25.0\n"
          ]
        }
      ],
      "source": [
        "def average(nums):\n",
        "    return sum(nums) / len(nums)\n",
        "\n",
        "print(average([10, 20, 30, 40]))"
      ]
    },
    {
      "cell_type": "markdown",
      "id": "0c820a16",
      "metadata": {
        "id": "0c820a16"
      },
      "source": [
        "# Part 3 — Exercises"
      ]
    },
    {
      "cell_type": "markdown",
      "id": "b8388dd1",
      "metadata": {
        "id": "b8388dd1"
      },
      "source": [
        "### Exercise 1 — Greeting Function\n",
        "Write a function that takes a person’s name and age, then prints:\n",
        "“Hello, my name is X and I am Y years old.”"
      ]
    },
    {
      "cell_type": "code",
      "execution_count": 7,
      "id": "2dbf00c9",
      "metadata": {
        "colab": {
          "base_uri": "https://localhost:8080/"
        },
        "id": "2dbf00c9",
        "outputId": "5041da80-aabf-4438-a617-9b2ae8266df5"
      },
      "outputs": [
        {
          "output_type": "stream",
          "name": "stdout",
          "text": [
            "Hello, my name is Sara and I am 20 years old.\n"
          ]
        }
      ],
      "source": [
        "def introduce(name, age):\n",
        "    print(f\"Hello, my name is {name} and I am {age} years old.\")\n",
        "\n",
        "introduce(\"Sara\", 20)"
      ]
    },
    {
      "cell_type": "markdown",
      "id": "f6af6ec7",
      "metadata": {
        "id": "f6af6ec7"
      },
      "source": [
        "### Exercise 2 — Maximum Finder\n",
        "Write a function that takes three numbers and returns the maximum."
      ]
    },
    {
      "cell_type": "code",
      "execution_count": 8,
      "id": "ecde1840",
      "metadata": {
        "colab": {
          "base_uri": "https://localhost:8080/"
        },
        "id": "ecde1840",
        "outputId": "57f61dbc-9e55-4e11-88b7-662e70f0f719"
      },
      "outputs": [
        {
          "output_type": "stream",
          "name": "stdout",
          "text": [
            "25\n"
          ]
        }
      ],
      "source": [
        "def max_of_three(a, b, c):\n",
        "    return max(a, b, c)\n",
        "\n",
        "print(max_of_three(10, 25, 17))"
      ]
    },
    {
      "cell_type": "markdown",
      "id": "2a3e78a4",
      "metadata": {
        "id": "2a3e78a4"
      },
      "source": [
        "### Exercise 3 — Convert Hours to Minutes"
      ]
    },
    {
      "cell_type": "code",
      "execution_count": 9,
      "id": "2f14c6cd",
      "metadata": {
        "colab": {
          "base_uri": "https://localhost:8080/"
        },
        "id": "2f14c6cd",
        "outputId": "b35ea326-9739-40cd-dcb9-144d9ccc7482"
      },
      "outputs": [
        {
          "output_type": "stream",
          "name": "stdout",
          "text": [
            "120\n",
            "90.0\n"
          ]
        }
      ],
      "source": [
        "def convert_to_minutes(hours):\n",
        "    return hours * 60\n",
        "\n",
        "print(convert_to_minutes(2))\n",
        "print(convert_to_minutes(1.5))"
      ]
    },
    {
      "cell_type": "markdown",
      "id": "9659d957",
      "metadata": {
        "id": "9659d957"
      },
      "source": [
        "### Exercise 4 — Online Order Total\n",
        "Write a function that takes a list of item prices and returns the total bill including 8% tax."
      ]
    },
    {
      "cell_type": "code",
      "execution_count": 10,
      "id": "6be9a40b",
      "metadata": {
        "colab": {
          "base_uri": "https://localhost:8080/"
        },
        "id": "6be9a40b",
        "outputId": "8087c280-2f78-4b6d-815d-02a3a8372e1f"
      },
      "outputs": [
        {
          "output_type": "stream",
          "name": "stdout",
          "text": [
            "64.8\n"
          ]
        }
      ],
      "source": [
        "def total_with_tax(prices):\n",
        "    subtotal = sum(prices)\n",
        "    tax = subtotal * 0.08\n",
        "    return subtotal + tax\n",
        "\n",
        "print(total_with_tax([10, 20, 30]))"
      ]
    },
    {
      "cell_type": "markdown",
      "id": "74de17cc",
      "metadata": {
        "id": "74de17cc"
      },
      "source": [
        "### Exercise 5 — Filter Long Words\n",
        "Write a function that takes a list of words and returns only the ones longer than 5 characters."
      ]
    },
    {
      "cell_type": "code",
      "execution_count": 11,
      "id": "13fa1dbb",
      "metadata": {
        "colab": {
          "base_uri": "https://localhost:8080/"
        },
        "id": "13fa1dbb",
        "outputId": "c7407e58-9467-4e79-aa6f-a4f88007588f"
      },
      "outputs": [
        {
          "output_type": "stream",
          "name": "stdout",
          "text": [
            "['python', 'machine']\n"
          ]
        }
      ],
      "source": [
        "def filter_long_words(words):\n",
        "    result = []\n",
        "    for word in words:\n",
        "        if len(word) > 5:\n",
        "            result.append(word)\n",
        "    return result\n",
        "\n",
        "print(filter_long_words([\"python\", \"ai\", \"machine\", \"cat\"]))"
      ]
    },
    {
      "cell_type": "markdown",
      "id": "f7af3cc3",
      "metadata": {
        "id": "f7af3cc3"
      },
      "source": [
        "### Exercise 6 — Shopping Discount\n",
        "\n",
        "Write a Python function that takes a price and returns the final price after applying a 10% discount if the price is greater than 100; otherwise, return the original price."
      ]
    },
    {
      "cell_type": "code",
      "execution_count": 12,
      "id": "6d3ad7e0",
      "metadata": {
        "colab": {
          "base_uri": "https://localhost:8080/"
        },
        "id": "6d3ad7e0",
        "outputId": "4c4dc3a5-1960-434d-f5a1-e3b565b4c587"
      },
      "outputs": [
        {
          "output_type": "stream",
          "name": "stdout",
          "text": [
            "135.0\n",
            "80\n"
          ]
        }
      ],
      "source": [
        "def apply_discount(price):\n",
        "    if price > 100:\n",
        "        return price * 0.9\n",
        "    return price\n",
        "\n",
        "print(apply_discount(150))  # discounted\n",
        "print(apply_discount(80))   # no discount"
      ]
    },
    {
      "cell_type": "markdown",
      "id": "031d4c52",
      "metadata": {
        "id": "031d4c52"
      },
      "source": [
        "### Exercise 7 — Student Pass/Fail\n",
        "\n",
        "Write a Python function that checks a student’s grade and returns “Pass” if the grade is greater than 50; otherwise, return “Fail”."
      ]
    },
    {
      "cell_type": "code",
      "execution_count": 13,
      "id": "d7669cb6",
      "metadata": {
        "colab": {
          "base_uri": "https://localhost:8080/"
        },
        "id": "d7669cb6",
        "outputId": "7027fa9a-4aa7-4890-d9e4-91e768c842da"
      },
      "outputs": [
        {
          "output_type": "stream",
          "name": "stdout",
          "text": [
            "Pass\n",
            "Fail\n"
          ]
        }
      ],
      "source": [
        "def check_pass_fail(grade):\n",
        "    if grade >= 50:\n",
        "        return \"Pass\"\n",
        "    return \"Fail\"\n",
        "\n",
        "print(check_pass_fail(72))\n",
        "print(check_pass_fail(40))"
      ]
    },
    {
      "cell_type": "markdown",
      "source": [
        "##Exercise 8\n",
        "Write a Python function that, given a list of numbers, returns how many values are strictly between the list’s minimum and maximum (inclusive).\n",
        "\n"
      ],
      "metadata": {
        "id": "WL84qh6Kairt"
      },
      "id": "WL84qh6Kairt"
    },
    {
      "cell_type": "code",
      "source": [
        "def count_in_range(numbers, min, max):\n",
        "\n",
        "    count=0\n",
        "    for x in numbers:\n",
        "        if min <= x <= max:\n",
        "            count += 1\n",
        "    return count\n",
        "\n",
        "print(count_in_range([1, 5, 7, 10, 12], 5, 10))"
      ],
      "metadata": {
        "colab": {
          "base_uri": "https://localhost:8080/"
        },
        "id": "4ldKLWllaiJi",
        "outputId": "ce8e9362-1c91-4a00-881a-2ce708f52dbd"
      },
      "id": "4ldKLWllaiJi",
      "execution_count": 14,
      "outputs": [
        {
          "output_type": "stream",
          "name": "stdout",
          "text": [
            "3\n"
          ]
        }
      ]
    },
    {
      "cell_type": "markdown",
      "source": [
        "##Exercise 9\n",
        "Write a Python function that takes a list of words and returns only the words with length ≥ min_len characters."
      ],
      "metadata": {
        "id": "q0hLbAsjakb7"
      },
      "id": "q0hLbAsjakb7"
    },
    {
      "cell_type": "code",
      "source": [
        "def filter_min_length(words, min_len):\n",
        "    return [w for w in words if len(w) >= min_len]\n",
        "\n",
        "\n",
        "print(filter_min_length([\"ai\", \"python\", \"cat\", \"machine\"], 6))\n"
      ],
      "metadata": {
        "colab": {
          "base_uri": "https://localhost:8080/"
        },
        "id": "9M9zZDsUak_V",
        "outputId": "6b68a178-7f32-416b-ad0f-a6f0586606a3"
      },
      "id": "9M9zZDsUak_V",
      "execution_count": 15,
      "outputs": [
        {
          "output_type": "stream",
          "name": "stdout",
          "text": [
            "['python', 'machine']\n"
          ]
        }
      ]
    },
    {
      "cell_type": "markdown",
      "source": [
        "##Exercise 10\n",
        "\n",
        "Write a function called calculator that takes three arguments:\n",
        "\n",
        "number1, number2, operation\n",
        "\n",
        "(add, subtract, multiply, divide)\n",
        "\n",
        "The function should return the result of that operation."
      ],
      "metadata": {
        "id": "uDRcQOGElV3G"
      },
      "id": "uDRcQOGElV3G"
    },
    {
      "cell_type": "code",
      "source": [
        "def calculator(number1, number2, operation):\n",
        "\n",
        "    op = operation.strip().lower()\n",
        "\n",
        "    if op in (\"add\", \"+\"):\n",
        "        return number1 + number2\n",
        "    elif op in (\"subtract\", \"-\"):\n",
        "        return number1 - number2\n",
        "    elif op in (\"multiply\", \"*\"):\n",
        "        return number1 * number2\n",
        "    elif op in (\"divide\", \"/\"):\n",
        "        if number2 == 0:\n",
        "            return \"Error: Cannot divide by zero\"\n",
        "        return number1 / number2\n",
        "    else:\n",
        "        return \"Error: Unknown operation\"\n",
        "\n",
        "# quick tests\n",
        "print(calculator(10, 5, \"add\"))\n",
        "print(calculator(10, 5, \"subtract\"))\n",
        "print(calculator(10, 5, \"multiply\"))\n",
        "print(calculator(10, 5, \"divide\"))\n",
        "print(calculator(10, 0, \"/\"))"
      ],
      "metadata": {
        "colab": {
          "base_uri": "https://localhost:8080/"
        },
        "id": "RxxQDOlgk0eH",
        "outputId": "b3b7231b-13ec-4e6b-c6b7-15c56574e550"
      },
      "id": "RxxQDOlgk0eH",
      "execution_count": 16,
      "outputs": [
        {
          "output_type": "stream",
          "name": "stdout",
          "text": [
            "15\n",
            "5\n",
            "50\n",
            "2.0\n",
            "Error: Cannot divide by zero\n"
          ]
        }
      ]
    },
    {
      "cell_type": "markdown",
      "source": [
        "##Final Class Exercise"
      ],
      "metadata": {
        "id": "Nh3v-nP0KAKC"
      },
      "id": "Nh3v-nP0KAKC"
    },
    {
      "cell_type": "markdown",
      "id": "a3c8ffb2",
      "metadata": {
        "id": "a3c8ffb2"
      },
      "source": [
        "\n",
        "Assignment Instructions\n",
        "\n",
        "Find and Download the Student_In_Class -Assignment_Ch 8 notebook file from Canvas\n",
        "\n",
        "Write your answers\n",
        "\n",
        "Save the completed notebook file.\n",
        "\n",
        "Upload the notebook to your GitHub account.\n",
        "\n",
        "Submit the GitHub link.\n",
        "\n",
        "This exercise is worth 1 point."
      ]
    }
  ],
  "metadata": {
    "colab": {
      "provenance": [],
      "include_colab_link": true
    },
    "language_info": {
      "name": "python"
    },
    "kernelspec": {
      "name": "python3",
      "display_name": "Python 3"
    }
  },
  "nbformat": 4,
  "nbformat_minor": 5
}