{
  "cells": [
    {
      "cell_type": "markdown",
      "metadata": {
        "id": "view-in-github",
        "colab_type": "text"
      },
      "source": [
        "<a href=\"https://colab.research.google.com/github/lt33tx/Landon_Tinch_DTSC3020_Fall2025-/blob/main/_DTSC3020_Midterm_Part2_Programming.ipynb\" target=\"_parent\"><img src=\"https://colab.research.google.com/assets/colab-badge.svg\" alt=\"Open In Colab\"/></a>"
      ]
    },
    {
      "cell_type": "markdown",
      "id": "8e58db4f",
      "metadata": {
        "id": "8e58db4f"
      },
      "source": [
        "# DTSC 3020 — Midterm Exam (Part 2: Programming)\n",
        "University of North Texas\n",
        "\n",
        "**Course:** Introduction to Computation with Python (DTSC 3020)  \n",
        "**Exam:** Midterm — Programming (Ch. 1–8 concepts)\n",
        "\n"
      ]
    },
    {
      "cell_type": "markdown",
      "id": "ed86aaec",
      "metadata": {
        "id": "ed86aaec"
      },
      "source": [
        "---\n",
        "### Instructions\n",
        "- Write clean, readable Python code for each question.\n",
        "- Use only standard Python; no external libraries.\n",
        "- Where required, write a function and return the result.\n",
        "- After each solution cell, there is a **Part 2 — Test Scenario**. Follow the prompt to run your code.\n",
        "\n",
        "---"
      ]
    },
    {
      "cell_type": "markdown",
      "id": "227c4435",
      "metadata": {
        "id": "227c4435"
      },
      "source": [
        "## Question 1 — Create Member ID\n",
        "Write a Python function `create_member_id(full_name)` that creates a Library Member ID from a person’s full name.\n",
        "\n",
        "**Rules**\n",
        "- Normalize the name: remove extra spaces, convert to lowercase, and split by spaces.\n",
        "- Use the last word as the last name (e.g., `\"John Ronald Reuel Tolkien\"` → last name `tolkien`).\n",
        "- Use the first letters of all earlier words as initials (e.g., `jrr` for the example above).\n",
        "- Construct the member ID in this exact format: `lastname_initials` (underscore between them; no spaces).\n",
        "\n",
        "**Examples**\n",
        "- `\"Sara Amini\"` → `amini_sa`\n",
        "- `\"Mary Jane Watson\"` → `watson_mj`\n",
        "- `\"LINA\"` (single word) → use the word for both parts: `lina_l`\n",
        "\n",
        "Part 2 — Test Scenario (run using your function)\n",
        "names = [\"Sara Amini\", \"Ali\", \"Mary Jane\", \"John Smith\", \"LINA\", \"madonna\", \"sara amini\"]\n",
        "\n",
        "\n",
        "\n"
      ]
    },
    {
      "cell_type": "code",
      "execution_count": 19,
      "id": "51411a35",
      "metadata": {
        "id": "51411a35"
      },
      "outputs": [],
      "source": [
        "# Write your answer here for Q1\n",
        "def create_member_id(full_name):\n",
        "\n",
        "  normalized_name = full_name.lower().split()\n",
        "\n",
        "  if not normalized_name:\n",
        "    return \"\"  # Handle empty input\n",
        "\n",
        "  last_name = normalized_name[-1]\n",
        "  initials = \"\".join([word[0] for word in normalized_name[:-1]])\n",
        "\n",
        "  if not initials:  # Handle single word names\n",
        "    initials = last_name[0]\n",
        "\n",
        "  return f\"{last_name}_{initials}\""
      ]
    },
    {
      "cell_type": "code",
      "execution_count": 21,
      "id": "584ae4f0",
      "metadata": {
        "id": "584ae4f0",
        "colab": {
          "base_uri": "https://localhost:8080/"
        },
        "outputId": "e08388e4-ab9c-4976-c159-6505f6d3ccd0"
      },
      "outputs": [
        {
          "output_type": "stream",
          "name": "stdout",
          "text": [
            "{'amini_s'}\n",
            "{'ali_a'}\n",
            "{'jane_m'}\n",
            "{'smith_j'}\n",
            "{'lina_l'}\n",
            "{'madonna_m'}\n",
            "{'amini_s'}\n"
          ]
        }
      ],
      "source": [
        "# Part 2 — Test Scenario (run using your function)\n",
        "names = [\"Sara Amini\", \"Ali\", \"Mary Jane\", \"John Smith\", \"LINA\", \"madonna\", \"sara amini\"]\n",
        "\n",
        "for name in names:\n",
        "  member_id = create_member_id(name)\n",
        "  print({member_id})"
      ]
    },
    {
      "cell_type": "markdown",
      "id": "c1727720",
      "metadata": {
        "id": "c1727720"
      },
      "source": [
        "## Question 2 — Movie Ticket Booth\n",
        "\n",
        "Write a Python program that simulates a movie ticket booth using this price list:\n",
        "\n",
        "```python\n",
        "prices = {\"adult\": 12.5, \"child\": 8, \"senior\": 9.5, \"student\": 10}\n",
        "```\n",
        "\n",
        "**Program Requirements**\n",
        "- Repeatedly ask the user to enter a ticket type or type `done` to finish.\n",
        "- Valid inputs: `adult`, `child`, `senior`, `student`, or `done`.\n",
        "- If the ticket type exists, add its price to a running total and print a confirmation message.\n",
        "- If it doesn’t exist, print `\"Invalid ticket type\"`.\n",
        "- When the user types `done`, stop and show:\n",
        "  - **Subtotal** (sum of valid ticket prices)\n",
        "  - **Tax** = 8% of subtotal\n",
        "  - **Final total** = subtotal + tax\n"
      ]
    },
    {
      "cell_type": "code",
      "execution_count": 13,
      "id": "4b859e17",
      "metadata": {
        "id": "4b859e17",
        "colab": {
          "base_uri": "https://localhost:8080/"
        },
        "outputId": "f15e6525-d7fe-4bfb-9c6f-19ac73ea6453"
      },
      "outputs": [
        {
          "output_type": "stream",
          "name": "stdout",
          "text": [
            "Please enter a Ticket type or type in done when you are done: adult\n",
            "Please enter a Ticket type or type in done when you are done: child\n",
            "Please enter a Ticket type or type in done when you are done: student\n",
            "Please enter a Ticket type or type in done when you are done: done\n",
            "Subtotal: 30.5\n",
            "Tax: 2.44\n",
            "Final Total: 32.94\n"
          ]
        }
      ],
      "source": [
        "# Write your answer here\n",
        "prices = {\"adult\": 12.5, \"child\": 8, \"senior\": 9.5, \"student\": 10}\n",
        "\n",
        "Subtotal = 0\n",
        "\n",
        "while True:\n",
        "  x = input(\"Please enter a Ticket type or type in done when you are done: \")\n",
        "\n",
        "  if x == \"adult\":\n",
        "    Subtotal = Subtotal + prices[\"adult\"]\n",
        "  elif x == \"child\":\n",
        "    Subtotal = Subtotal + prices[\"child\"]\n",
        "  elif x == \"senior\":\n",
        "    Subtotal = Subtotal + prices[\"senior\"]\n",
        "  elif x == \"student\":\n",
        "    Subtotal = Subtotal + prices[\"student\"]\n",
        "  elif x == \"done\":\n",
        "    break\n",
        "  else:\n",
        "    print(\"Invalid ticket type\")\n",
        "\n",
        "Tax = Subtotal * 0.08\n",
        "Final_total = Subtotal + Tax\n",
        "\n",
        "print(\"Subtotal:\", Subtotal)\n",
        "print(\"Tax:\", Tax)\n",
        "print(\"Final Total:\", Final_total)"
      ]
    },
    {
      "cell_type": "markdown",
      "id": "17b39afe",
      "metadata": {
        "id": "17b39afe"
      },
      "source": [
        "**Part 2 — Example Scenario**\n",
        "When prompted, type the following (each on a new line), then press Enter after each entry:\n",
        "\n",
        "```\n",
        "adult\n",
        "child\n",
        "student\n",
        "done\n",
        "```\n",
        "Your program should complete and display the subtotal, tax, and final total based on these entries.\n"
      ]
    },
    {
      "cell_type": "markdown",
      "id": "28c710b6",
      "metadata": {
        "id": "28c710b6"
      },
      "source": [
        "## Question 3 — Student Grade Analyzer\n",
        "\n",
        "Write a Python function `analyze_grades(grades)` that takes a list of numbers (0–100) and returns three values:\n",
        "1. average grade\n",
        "2. highest grade\n",
        "3. lowest grade\n",
        "\n",
        "**Constraints**\n",
        "- Use a function and return statement(s).\n",
        "- Do not use external libraries.\n"
      ]
    },
    {
      "cell_type": "code",
      "execution_count": 27,
      "id": "efce3052",
      "metadata": {
        "id": "efce3052"
      },
      "outputs": [],
      "source": [
        "# Write your answer here for Q3\n",
        "def analyze_grades(grades):\n",
        "  average = sum(grades) / len(grades)\n",
        "  highest = max(grades)\n",
        "  lowest = min(grades)\n",
        "  return average, highest, lowest\n"
      ]
    },
    {
      "cell_type": "code",
      "execution_count": 26,
      "id": "ad2b0d29",
      "metadata": {
        "id": "ad2b0d29",
        "colab": {
          "base_uri": "https://localhost:8080/"
        },
        "outputId": "6e9d7791-2c5b-489d-d03b-f597ef59b9c7"
      },
      "outputs": [
        {
          "output_type": "stream",
          "name": "stdout",
          "text": [
            "Grades: [85, 90, 78, 92, 88]\n",
            "Average grade: 86.6\n",
            "Highest grade: 92\n",
            "Lowest grade: 78\n"
          ]
        }
      ],
      "source": [
        "# Part 2 — Test Scenario\n",
        "sample_grades = [85, 90, 78, 92, 88]\n",
        "average, highest, lowest = analyze_grades(sample_grades)\n",
        "\n",
        "print(f\"Grades: {sample_grades}\")\n",
        "print(f\"Average grade: {average}\")\n",
        "print(f\"Highest grade: {highest}\")\n",
        "print(f\"Lowest grade: {lowest}\")"
      ]
    },
    {
      "cell_type": "markdown",
      "id": "d378f3c3",
      "metadata": {
        "id": "d378f3c3"
      },
      "source": [
        "## Question 4 — PIN Verification\n",
        "Write a Python program that simulates an ATM PIN verification system.\n",
        "\n",
        "**Requirements**\n",
        "- The correct PIN is `4321`.\n",
        "- The user has at most **3 attempts** to enter the correct PIN.\n",
        "- If the PIN is correct: print `Access granted.` and stop.\n",
        "- If all 3 attempts fail: print `Card blocked.`\n",
        "- After each wrong attempt, also print the counter in the form `Wrong (x/3)`.\n"
      ]
    },
    {
      "cell_type": "code",
      "execution_count": 28,
      "id": "5ea085a2",
      "metadata": {
        "id": "5ea085a2",
        "colab": {
          "base_uri": "https://localhost:8080/"
        },
        "outputId": "a3bf3c35-f96b-424b-e47e-97290ee4a6d2"
      },
      "outputs": [
        {
          "output_type": "stream",
          "name": "stdout",
          "text": [
            "Enter your PIN: 1111\n",
            "Wrong (1/3)\n",
            "Enter your PIN: 2222\n",
            "Wrong (2/3)\n",
            "Enter your PIN: 4321\n",
            "Access granted.\n"
          ]
        }
      ],
      "source": [
        "# Write your answer here\n",
        "correct_pin = 4321\n",
        "attempts = 0\n",
        "max_attempts = 3\n",
        "\n",
        "while attempts < max_attempts:\n",
        "  try:\n",
        "    entered_pin = int(input(\"Enter your PIN: \"))\n",
        "  except ValueError:\n",
        "    print(\"Invalid input. Please enter a number.\")\n",
        "    continue\n",
        "\n",
        "  if entered_pin == correct_pin:\n",
        "    print(\"Access granted.\")\n",
        "    break\n",
        "  else:\n",
        "    attempts += 1\n",
        "    if attempts < max_attempts:\n",
        "      print(f\"Wrong ({attempts}/{max_attempts})\")\n",
        "    else:\n",
        "      print(\"Card blocked.\")"
      ]
    },
    {
      "cell_type": "markdown",
      "id": "1c61e343",
      "metadata": {
        "id": "1c61e343"
      },
      "source": [
        "**Part 2 — Test Scenario**\n",
        "Run your program and, when prompted, enter these sequences to verify both behaviors:\n",
        "\n",
        "**Scenario A**\n",
        "```\n",
        "1111\n",
        "2222\n",
        "4321\n",
        "```\n",
        "\n",
        "\n"
      ]
    }
  ],
  "metadata": {
    "kernelspec": {
      "display_name": "Python 3",
      "language": "python",
      "name": "python3"
    },
    "language_info": {
      "name": "python",
      "version": "3.x"
    },
    "colab": {
      "provenance": [],
      "include_colab_link": true
    }
  },
  "nbformat": 4,
  "nbformat_minor": 5
}