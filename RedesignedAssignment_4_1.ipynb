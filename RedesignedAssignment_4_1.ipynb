{
  "cells": [
    {
      "cell_type": "markdown",
      "metadata": {
        "id": "view-in-github",
        "colab_type": "text"
      },
      "source": [
        "<a href=\"https://colab.research.google.com/github/lt33tx/Landon_Tinch_DTSC3020_Fall2025-/blob/main/RedesignedAssignment_4_1.ipynb\" target=\"_parent\"><img src=\"https://colab.research.google.com/assets/colab-badge.svg\" alt=\"Open In Colab\"/></a>"
      ]
    },
    {
      "cell_type": "markdown",
      "metadata": {
        "id": "kbSp0t2xm4-P"
      },
      "source": [
        "# Assignment 4: Simulations\n",
        "\n",
        "Welcome to Assignment4!\n",
        "\n",
        "We will go over [iteration](https://www.inferentialthinking.com/chapters/09/2/Iteration.html) and [simulations](https://www.inferentialthinking.com/chapters/09/3/Simulation.html), as well as the concept of [randomness](https://www.inferentialthinking.com/chapters/09/Randomness.html).\n",
        "\n",
        "First, set up the tests and imports by running the cell below."
      ]
    },
    {
      "cell_type": "code",
      "execution_count": 4,
      "metadata": {
        "id": "2Xmao2aqm4-R"
      },
      "outputs": [],
      "source": [
        "# Run this cell, but please don't change it.\n",
        "\n",
        "# These lines import the Numpy and Datascience modules.\n",
        "import numpy as np\n",
        "from datascience import *\n",
        "\n",
        "# These lines do some fancy plotting magic\n",
        "import matplotlib\n",
        "%matplotlib inline\n",
        "import matplotlib.pyplot as plt\n",
        "plt.style.use('fivethirtyeight')"
      ]
    },
    {
      "cell_type": "markdown",
      "metadata": {
        "id": "XfGfUCskm4-S"
      },
      "source": [
        "## 1. Nachos and Conditionals"
      ]
    },
    {
      "cell_type": "markdown",
      "metadata": {
        "id": "cij6Mf_Jm4-S"
      },
      "source": [
        "In Python, the boolean data type contains only two unique values:  `True` and `False`. Expressions containing comparison operators such as `<` (less than), `>` (greater than), and `==` (equal to) evaluate to Boolean values. A list of common comparison operators can be found below!\n",
        "\n",
        "<img src=\"comparisons.png\">"
      ]
    },
    {
      "cell_type": "markdown",
      "metadata": {
        "id": "sKro3X11m4-T"
      },
      "source": [
        "Run the cell below to see an example of a comparison operator in action."
      ]
    },
    {
      "cell_type": "code",
      "execution_count": 9,
      "metadata": {
        "id": "gesj2bAkm4-T",
        "colab": {
          "base_uri": "https://localhost:8080/"
        },
        "outputId": "b167e9cb-9d12-4665-9082-3b91971fbb4e"
      },
      "outputs": [
        {
          "output_type": "execute_result",
          "data": {
            "text/plain": [
              "True"
            ]
          },
          "metadata": {},
          "execution_count": 9
        }
      ],
      "source": [
        "3 > 1 + 1"
      ]
    },
    {
      "cell_type": "markdown",
      "metadata": {
        "id": "6SCyH6kIm4-T"
      },
      "source": [
        "We can even assign the result of a comparison operation to a variable."
      ]
    },
    {
      "cell_type": "markdown",
      "source": [],
      "metadata": {
        "id": "TtfBAhewnZBz"
      }
    },
    {
      "cell_type": "code",
      "execution_count": 10,
      "metadata": {
        "id": "pOjVqfH4m4-T",
        "colab": {
          "base_uri": "https://localhost:8080/"
        },
        "outputId": "2fc361ef-8c5c-433d-b1fe-cbea8edb5e1e"
      },
      "outputs": [
        {
          "output_type": "execute_result",
          "data": {
            "text/plain": [
              "True"
            ]
          },
          "metadata": {},
          "execution_count": 10
        }
      ],
      "source": [
        "result = 10 / 2 == 5\n",
        "result"
      ]
    },
    {
      "cell_type": "markdown",
      "metadata": {
        "id": "WLzdbOeDm4-T"
      },
      "source": [
        "Arrays are compatible with comparison operators. The output is an array of\n",
        "\n",
        "---\n",
        "\n",
        "boolean values."
      ]
    },
    {
      "cell_type": "code",
      "execution_count": 11,
      "metadata": {
        "id": "jzJl65vzm4-T",
        "colab": {
          "base_uri": "https://localhost:8080/"
        },
        "outputId": "6f0fd518-1c1b-4960-b341-56d9c2b2c429"
      },
      "outputs": [
        {
          "output_type": "execute_result",
          "data": {
            "text/plain": [
              "array([False,  True,  True,  True, False, False], dtype=bool)"
            ]
          },
          "metadata": {},
          "execution_count": 11
        }
      ],
      "source": [
        "make_array(1, 5, 7, 8, 3, -1) > 3"
      ]
    },
    {
      "cell_type": "markdown",
      "metadata": {
        "id": "wqL8lmwwm4-T"
      },
      "source": [
        "One day, when you come home after a long week, you see a hot bowl of nachos waiting on the dining table! Let's say that whenever you take a nacho from the bowl, it will either have only **cheese**, only **salsa**, **both** cheese and salsa, or **neither** cheese nor salsa (a sad tortilla chip indeed).\n",
        "\n",
        "Let's try and simulate taking nachos from the bowl at random using the function, `np.random.choice(...)`."
      ]
    },
    {
      "cell_type": "markdown",
      "metadata": {
        "id": "g8GVB44vm4-U"
      },
      "source": [
        "### `np.random.choice`\n",
        "\n",
        "`np.random.choice` picks one item at random from the given array. It is equally likely to pick any of the items. Run the cell below several times, and observe how the results change."
      ]
    },
    {
      "cell_type": "code",
      "execution_count": 14,
      "metadata": {
        "id": "I8AbOfB7m4-U",
        "colab": {
          "base_uri": "https://localhost:8080/",
          "height": 36
        },
        "outputId": "b8cc50bd-0336-4916-e01b-4497d6db3366"
      },
      "outputs": [
        {
          "output_type": "execute_result",
          "data": {
            "text/plain": [
              "'cheese'"
            ],
            "application/vnd.google.colaboratory.intrinsic+json": {
              "type": "string"
            }
          },
          "metadata": {},
          "execution_count": 14
        }
      ],
      "source": [
        "nachos = make_array('cheese', 'salsa', 'both', 'neither')\n",
        "np.random.choice(nachos)"
      ]
    },
    {
      "cell_type": "markdown",
      "metadata": {
        "id": "aD8d8uQTm4-U"
      },
      "source": [
        "To repeat this process multiple times, pass in an int `n` as the second argument to return `n` different random choices. By default, `np.random.choice` samples **with replacement** and returns an *array* of items.\n",
        "\n",
        "Run the next cell to see an example of sampling with replacement 10 times from the `nachos` array."
      ]
    },
    {
      "cell_type": "code",
      "execution_count": 16,
      "metadata": {
        "id": "sDWtFdT-m4-U",
        "colab": {
          "base_uri": "https://localhost:8080/"
        },
        "outputId": "f7ae93f6-c67e-4cee-eb39-f4ab1fd1219d"
      },
      "outputs": [
        {
          "output_type": "execute_result",
          "data": {
            "text/plain": [
              "array(['salsa', 'neither', 'both', 'cheese', 'salsa', 'salsa', 'both',\n",
              "       'neither', 'salsa', 'neither'],\n",
              "      dtype='<U7')"
            ]
          },
          "metadata": {},
          "execution_count": 16
        }
      ],
      "source": [
        "np.random.choice(nachos, 10)"
      ]
    },
    {
      "cell_type": "markdown",
      "metadata": {
        "id": "fAuTuw-om4-U"
      },
      "source": [
        "To count the number of times a certain type of nacho is randomly chosen, we can use `np.count_nonzero`"
      ]
    },
    {
      "cell_type": "markdown",
      "metadata": {
        "id": "Fi-FQ1rLm4-U"
      },
      "source": [
        "### `np.count_nonzero`\n",
        "\n",
        "`np.count_nonzero` counts the number of non-zero values that appear in an array. When an array of boolean values are passed through the function, it will count the number of `True` values (remember that in Python, `True` is coded as 1 and `False` is coded as 0.)\n",
        "\n",
        "Run the next cell to see an example that uses `np.count_nonzero`."
      ]
    },
    {
      "cell_type": "code",
      "execution_count": 17,
      "metadata": {
        "id": "0XnZCazDm4-U",
        "colab": {
          "base_uri": "https://localhost:8080/"
        },
        "outputId": "99d82666-a80b-4c65-e173-36be99415191"
      },
      "outputs": [
        {
          "output_type": "execute_result",
          "data": {
            "text/plain": [
              "3"
            ]
          },
          "metadata": {},
          "execution_count": 17
        }
      ],
      "source": [
        "np.count_nonzero(make_array(True, False, False, True, True))"
      ]
    },
    {
      "cell_type": "code",
      "source": [
        "# Load the new dataset\n",
        "dataset_path = 'dickens_great_expectations.txt'\n",
        "with open(dataset_path, 'r', encoding='utf-8') as f:\n",
        "   text = f.read()\n"
      ],
      "metadata": {
        "id": "v76T6cNsrQy3"
      },
      "execution_count": 19,
      "outputs": []
    },
    {
      "cell_type": "markdown",
      "metadata": {
        "id": "_FjqXe0Ym4-U"
      },
      "source": [
        "<span style='background:yellow'>**Question 1.1.**</span>  Create a function to count the number of occurrences of a specific word in the text"
      ]
    },
    {
      "cell_type": "code",
      "execution_count": 20,
      "metadata": {
        "id": "ZYTHz9drm4-U"
      },
      "outputs": [],
      "source": [
        "def word_count(word):\n",
        "    lower_word = word.lower()\n",
        "    words = text.lower().split()\n",
        "\n",
        "    matches = make_array()\n",
        "    for w in words:\n",
        "        matches = np.append(matches, w == lower_word)\n",
        "\n",
        "    return np.count_nonzero(matches)"
      ]
    },
    {
      "cell_type": "code",
      "execution_count": 24,
      "metadata": {
        "id": "TYulgOJSm4-V",
        "colab": {
          "base_uri": "https://localhost:8080/"
        },
        "outputId": "3dd92ffd-3c51-41fd-cf90-1ace6c36707e"
      },
      "outputs": [
        {
          "output_type": "stream",
          "name": "stdout",
          "text": [
            "The word 'and' appears 6740 times.\n"
          ]
        }
      ],
      "source": [
        "count_word = word_count(\"and\")\n",
        "print(f\"The word 'and' appears {count_word} times.\")"
      ]
    },
    {
      "cell_type": "markdown",
      "metadata": {
        "id": "XKUYTWlKm4-V"
      },
      "source": [
        "**Conditional Statements**\n",
        "\n",
        "A conditional statement is a multi-line statement that allows Python to choose among different alternatives based on the truth value of an expression.\n",
        "\n",
        "Here is a basic example.\n",
        "\n",
        "```\n",
        "def sign(x):\n",
        "    if x > 0:\n",
        "        return 'Positive'\n",
        "    else:\n",
        "        return 'Negative'\n",
        "```\n",
        "\n",
        "If the input `x` is greater than `0`, we return the string `'Positive'`. Otherwise, we return `'Negative'`.\n",
        "\n",
        "If we want to test multiple conditions at once, we use the following general format.\n",
        "\n",
        "```\n",
        "if <if expression>:\n",
        "    <if body>\n",
        "elif <elif expression 0>:\n",
        "    <elif body 0>\n",
        "elif <elif expression 1>:\n",
        "    <elif body 1>\n",
        "...\n",
        "else:\n",
        "    <else body>\n",
        "```\n",
        "\n",
        "Only the body for the first conditional expression that is true will be evaluated. Each `if` and `elif` expression is evaluated and considered in order, starting at the top. As soon as a true value is found, the corresponding body is executed, and the rest of the conditional statement is skipped. If none of the `if` or `elif` expressions are true, then the `else body` is executed.\n",
        "\n",
        "For more examples and explanation, refer to the section on conditional statements [here](https://www.inferentialthinking.com/chapters/09/1/conditional-statements.html)."
      ]
    },
    {
      "cell_type": "markdown",
      "metadata": {
        "id": "dTQeTk_-m4-V"
      },
      "source": [
        "<span style='background:yellow'>**Question 1.2.**</span> Create a function to extract sentences containing a specific keyword.\n"
      ]
    },
    {
      "cell_type": "code",
      "execution_count": 25,
      "metadata": {
        "for_assignment_type": "student",
        "id": "-P2uVqBcm4-V"
      },
      "outputs": [],
      "source": [
        "def extract_sentences_with_keyword(keyword):\n",
        "    lower_keyword = keyword.lower()\n",
        "\n",
        "    sentences = text.split('.')\n",
        "\n",
        "    matching_sentences = make_array()\n",
        "\n",
        "    for sentence in sentences:\n",
        "        if lower_keyword in sentence.lower():\n",
        "            matching_sentences = np.append(matching_sentences, sentence.strip() + '.')\n",
        "\n",
        "    return matching_sentences"
      ]
    },
    {
      "cell_type": "code",
      "execution_count": 82,
      "metadata": {
        "id": "k92T7K3Tm4-V",
        "colab": {
          "base_uri": "https://localhost:8080/"
        },
        "outputId": "55ee7e2c-5803-407e-bc54-0bb9089d24a0"
      },
      "outputs": [
        {
          "output_type": "execute_result",
          "data": {
            "text/plain": [
              "array([ '[Illustration]\\n\\n“You young dog,” said the man, licking his lips, “what fat cheeks you\\nha’ got.',\n",
              "       '”\\n\\nI had often watched a large dog of ours eating his food; and I now\\nnoticed a decided similarity between the dog’s way of eating, and the\\nman’s.',\n",
              "       'The man took strong sharp sudden bites, just like the dog.',\n",
              "       'In all of\\nwhich particulars he was very like the dog.',\n",
              "       'No one seemed surprised to see him, or\\ninterested in seeing him, or glad to see him, or sorry to see him, or\\nspoke a word, except that somebody in the boat growled as if to dogs,\\n“Give way, you!” which was the signal for the dip of the oars.',\n",
              "       'But I felt myself so\\nunequal to the performance that I gave it up, and stood looking at Miss\\nHavisham in what I suppose she took for a dogged manner, inasmuch as\\nshe said, when we had taken a good look at each other,—\\n\\n“Are you sullen and obstinate?”\\n\\n“No, ma’am, I am very sorry for you, and very sorry I can’t play just\\nnow.',\n",
              "       'She\\nput the mug down on the stones of the yard, and gave me the bread and\\nmeat without looking at me, as insolently as if I were a dog in\\ndisgrace.',\n",
              "       '“Four dogs,” said I.',\n",
              "       'Joe fell into the\\ndeepest disgrace with both, for offering the bright suggestion that I\\nmight only be presented with one of the dogs who had fought for the\\nveal-cutlets.',\n",
              "       '“But at least\\nthere was dogs, Pip? Come, Pip,” said Joe, persuasively, “if there\\nwarn’t no weal-cutlets, at least there was dogs?”\\n\\n“No, Joe.',\n",
              "       '”\\n\\n“A dog?” said Joe.',\n",
              "       'But bearing in mind that them were which I meantersay of\\na stunning and outdacious sort,—alluding to them which bordered on\\nweal-cutlets and dog-fighting,—a sincere well-wisher would adwise, Pip,\\ntheir being dropped into your meditations, when you go upstairs to bed.',\n",
              "       'When we had played some half-dozen games,\\na day was appointed for my return, and I was taken down into the yard\\nto be fed in the former dog-like manner.',\n",
              "       'In addition to the dread that, having led up to so much\\nmischief, it would be now more likely than ever to alienate Joe from me\\nif he believed it, I had a further restraining dread that he would not\\nbelieve it, but would assort it with the fabulous dogs and veal-cutlets\\nas a monstrous invention.',\n",
              "       'After that\\nday, a day rarely passed without her drawing the hammer on her slate,\\nand without Orlick’s slouching in and standing doggedly before her, as\\nif he knew no more than I did what to make of it.',\n",
              "       'Do you keep a dog?”\\n\\n“Yes, I do keep a dog.',\n",
              "       '”\\n\\n“Bear in mind then, that Brag is a good dog, but Holdfast is a better.',\n",
              "       'After this memorable event, I went to the hatter’s, and the\\nbootmaker’s, and the hosier’s, and felt rather like Mother Hubbard’s\\ndog whose outfit required the services of so many trades.',\n",
              "       'All night there were coaches in my broken sleep, going to wrong places\\ninstead of to London, and having in the traces, now dogs, now cats, now\\npigs, now men,—never horses.',\n",
              "       'In my fancy, I saw the boat with its convict crew waiting\\nfor them at the slime-washed stairs,—again heard the gruff “Give way,\\nyou!” like an order to dogs,—again saw the wicked Noah’s Ark lying out\\non the black water.',\n",
              "       '“Yes!”\\nsaid he, facing round, after doggedly preceding me a few steps towards\\nthe house.',\n",
              "       'So, the Spider, doggedly watching\\nEstella, outwatched many brighter insects, and would often uncoil\\nhimself and drop at the right nick of time.',\n",
              "       'I tell it, fur you to\\nknow as that there hunted dunghill dog wot you kep life in, got his\\nhead so high that he could make a gentleman,—and, Pip, you’re him!”\\n\\nThe abhorrence in which I held the man, the dread I had of him, the\\nrepugnance with which I shrank from him, could not have been exceeded\\nif he had been some terrible beast.',\n",
              "       'Some of his teeth had failed\\nhim since I saw him eat on the marshes, and as he turned his food in\\nhis mouth, and turned his head sideways to bring his strongest fangs to\\nbear upon it, he looked terribly like a hungry old dog.'],\n",
              "      dtype='<U332')"
            ]
          },
          "metadata": {},
          "execution_count": 82
        }
      ],
      "source": [
        "keyword_sentences = extract_sentences_with_keyword('dog')\n",
        "keyword_sentences"
      ]
    },
    {
      "cell_type": "markdown",
      "metadata": {
        "id": "yfUzM2Xum4-V"
      },
      "source": [
        "<span style='background:yellow'>**Question 1.3.**</span> Write a function to compute the average word length in the text"
      ]
    },
    {
      "cell_type": "code",
      "execution_count": 33,
      "metadata": {
        "for_assignment_type": "student",
        "id": "Wt7fVQ3Gm4-V"
      },
      "outputs": [],
      "source": [
        "all_words = text.split()"
      ]
    },
    {
      "cell_type": "code",
      "execution_count": 34,
      "metadata": {
        "id": "A1-6rafTm4-V"
      },
      "outputs": [],
      "source": [
        "word_lengths = make_array()\n",
        "for word in all_words:\n",
        "    word_lengths = np.append(word_lengths, len(word))"
      ]
    },
    {
      "cell_type": "code",
      "execution_count": 35,
      "metadata": {
        "id": "A7BPGT2Mm4-W"
      },
      "outputs": [],
      "source": [
        "def average_word_length():\n",
        "    words = text.split()\n",
        "    lengths = make_array()\n",
        "    for word in words:\n",
        "        lengths = np.append(lengths, len(word))\n",
        "\n",
        "    return np.sum(lengths) / len(lengths)"
      ]
    },
    {
      "cell_type": "code",
      "execution_count": 38,
      "metadata": {
        "id": "j0Boan2om4-W"
      },
      "outputs": [],
      "source": [
        "avg_length = average_word_length()"
      ]
    },
    {
      "cell_type": "code",
      "execution_count": 39,
      "metadata": {
        "id": "ZwBHUORwm4-W",
        "colab": {
          "base_uri": "https://localhost:8080/"
        },
        "outputId": "06b19d8b-8bce-444d-c15a-e6380ed9799d"
      },
      "outputs": [
        {
          "output_type": "stream",
          "name": "stdout",
          "text": [
            "The average word length is: 4.382256566799373\n"
          ]
        }
      ],
      "source": [
        "print(f\"The average word length is: {avg_length}\")"
      ]
    },
    {
      "cell_type": "markdown",
      "metadata": {
        "id": "LoMECgqzm4-W"
      },
      "source": [
        "<span style='background:yellow'>**Question 1.4.**</span> Write a function to simulate a random selection of 100 words from the text."
      ]
    },
    {
      "cell_type": "code",
      "execution_count": 40,
      "metadata": {
        "for_assignment_type": "student",
        "id": "5heRr5Yvm4-W"
      },
      "outputs": [],
      "source": [
        "def simulate_word_selection():\n",
        "    words = text.split()\n",
        "    sample_size = 100\n",
        "    return np.random.choice(words, sample_size)"
      ]
    },
    {
      "cell_type": "code",
      "execution_count": 44,
      "metadata": {
        "id": "xvtXkrMWm4-W",
        "colab": {
          "base_uri": "https://localhost:8080/"
        },
        "outputId": "1f9a5ec5-789e-450c-b91b-598ef88048c9"
      },
      "outputs": [
        {
          "output_type": "execute_result",
          "data": {
            "text/plain": [
              "array(['you', 'at', 'paragraphs', 'what', 'CELL.', 'busy', 'me', 'worn',\n",
              "       'or', 'it!—there’s', '“O', 'was', 'whiles', 'him,', 'the', 'had',\n",
              "       'we', 'Now,', 'two', 'they', 'large', 'food,—of', 'I', 'or', 'It',\n",
              "       'is', 'of', 'of', 'trouble', 'do', 'the', 'flourish', 'last',\n",
              "       'summoning', 'upon', '“So', 'do', 'was', 'Catechism', 'you',\n",
              "       'Havisham', 'on', 'pretty', 'me', 'There', 'While', 'officers',\n",
              "       'in', 'the', 'Mr.', 'roof', 'looked', 'men', 'what', 'by', 'the',\n",
              "       'he', 'meet', 'that', 'my', 'like—”', 'its', 'the', 'were', 'on',\n",
              "       'scabbard,', 'whether', 'asleep,', 'little', 'I', 'pie,', 'stopped',\n",
              "       'that', 'your', 'there,', 'been', 'the', 'see', 'same', 'short',\n",
              "       'far,', 'encouraged', 'seemed', 'unceremoniously', 'began', 'me',\n",
              "       'air', 'boy.”', 'from', 'for', 'say', 'that,', 'nothing', 'air',\n",
              "       'wouldn’t', 'was,', 'events,', 'an', 'could', 'of'],\n",
              "      dtype='<U32')"
            ]
          },
          "metadata": {},
          "execution_count": 44
        }
      ],
      "source": [
        "random_sample = simulate_word_selection()\n",
        "random_sample[:100]"
      ]
    },
    {
      "cell_type": "markdown",
      "metadata": {
        "id": "RwO741r5m4-W"
      },
      "source": [
        "<span style='background:yellow'>**Question 1.5.**</span> Write a function to find the most common word in the text"
      ]
    },
    {
      "cell_type": "code",
      "execution_count": 45,
      "metadata": {
        "id": "U2C_4y4em4-W"
      },
      "outputs": [],
      "source": [
        "def most_common_word():\n",
        "    words = text.lower().split()\n",
        "\n",
        "    word_frequencies = {}\n",
        "\n",
        "    for word in words:\n",
        "        if word in word_frequencies:\n",
        "            word_frequencies[word] += 1\n",
        "        else:\n",
        "            word_frequencies[word] = 1\n",
        "\n",
        "    if not word_frequencies:\n",
        "        return \"Text is empty or contains no words.\"\n",
        "\n",
        "    most_common = max(word_frequencies, key=word_frequencies.get)\n",
        "    return most_common"
      ]
    },
    {
      "cell_type": "code",
      "execution_count": 48,
      "metadata": {
        "id": "e7fMr7z9m4-W"
      },
      "outputs": [],
      "source": [
        "common_word = most_common_word()\n"
      ]
    },
    {
      "cell_type": "code",
      "execution_count": 49,
      "metadata": {
        "id": "C7O40-EAm4-X",
        "colab": {
          "base_uri": "https://localhost:8080/"
        },
        "outputId": "e3cfb18b-e342-4e22-a384-115cb6fdbcf9"
      },
      "outputs": [
        {
          "output_type": "stream",
          "name": "stdout",
          "text": [
            "The most common word in the text is: 'the'\n"
          ]
        }
      ],
      "source": [
        "print(f\"The most common word in the text is: '{common_word}'\")"
      ]
    },
    {
      "cell_type": "markdown",
      "metadata": {
        "id": "YcKxcUf0m4-X"
      },
      "source": [
        "## 2. Simulations and For Loops\n",
        "Using a `for` statement, we can perform a task multiple times. This is known as iteration."
      ]
    },
    {
      "cell_type": "markdown",
      "metadata": {
        "id": "Kshsg0Rvm4-a"
      },
      "source": [
        "One use of iteration is to loop through a set of values. For instance, we can print out all of the colors of the rainbow."
      ]
    },
    {
      "cell_type": "code",
      "execution_count": 50,
      "metadata": {
        "id": "hoZXlT22m4-a",
        "colab": {
          "base_uri": "https://localhost:8080/"
        },
        "outputId": "3c1ac408-8724-4dba-f391-d3a3bc9003a9"
      },
      "outputs": [
        {
          "output_type": "stream",
          "name": "stdout",
          "text": [
            "red\n",
            "orange\n",
            "yellow\n",
            "green\n",
            "blue\n",
            "indigo\n",
            "violet\n"
          ]
        }
      ],
      "source": [
        "rainbow = make_array(\"red\", \"orange\", \"yellow\", \"green\", \"blue\", \"indigo\", \"violet\")\n",
        "\n",
        "for color in rainbow:\n",
        "    print(color)"
      ]
    },
    {
      "cell_type": "markdown",
      "metadata": {
        "id": "7DnL4IEjm4-a"
      },
      "source": [
        "We can see that the indented part of the `for` loop, known as the body, is executed once for each item in `rainbow`. The name `color` is assigned to the next value in `rainbow` at the start of each iteration. Note that the name `color` is arbitrary; we could easily have named it something else. The important thing is we stay consistent throughout the `for` loop."
      ]
    },
    {
      "cell_type": "code",
      "execution_count": 51,
      "metadata": {
        "id": "XM9LiBMom4-a",
        "colab": {
          "base_uri": "https://localhost:8080/"
        },
        "outputId": "ce26d427-6ff7-40ff-8061-0035ef60c232"
      },
      "outputs": [
        {
          "output_type": "stream",
          "name": "stdout",
          "text": [
            "red\n",
            "orange\n",
            "yellow\n",
            "green\n",
            "blue\n",
            "indigo\n",
            "violet\n"
          ]
        }
      ],
      "source": [
        "for another_name in rainbow:\n",
        "    print(another_name)"
      ]
    },
    {
      "cell_type": "markdown",
      "metadata": {
        "id": "uUhhZd7jm4-a"
      },
      "source": [
        "In general, however, we would like the variable name to be somewhat informative."
      ]
    },
    {
      "cell_type": "markdown",
      "metadata": {
        "id": "MYW7aKAbm4-a"
      },
      "source": [
        "<span style='background:yellow'>**Question 2.1.**</span> Write a function to generate a histogram of word lengths"
      ]
    },
    {
      "cell_type": "code",
      "execution_count": 52,
      "metadata": {
        "for_assignment_type": "student",
        "id": "PWmLheVXm4-a"
      },
      "outputs": [],
      "source": [
        "def word_length_histogram():\n",
        "    words = text.split()\n",
        "\n",
        "    lengths = make_array()\n",
        "    for word in words:\n",
        "        lengths = np.append(lengths, len(word))\n",
        "\n",
        "    length_table = Table().with_column(\"Word Length\", lengths)\n",
        "\n",
        "    length_table.hist(\"Word Length\", bins=np.arange(0, 20, 1))\n",
        "    plt.title(\"Histogram of Word Lengths\")\n",
        "    plt.xlabel(\"Word Length (characters)\")\n",
        "    plt.ylabel(\"Percentage per unit\")\n",
        ""
      ]
    },
    {
      "cell_type": "code",
      "execution_count": 53,
      "metadata": {
        "id": "Obbrgip8m4-b",
        "colab": {
          "base_uri": "https://localhost:8080/",
          "height": 440
        },
        "outputId": "3b39c0cf-4ced-42ac-dd43-1aeeed5182d4"
      },
      "outputs": [
        {
          "output_type": "display_data",
          "data": {
            "text/plain": [
              "<Figure size 600x400 with 1 Axes>"
            ],
            "image/png": "[encoded data removed]"
          },
          "metadata": {}
        }
      ],
      "source": [
        "word_length_histogram()"
      ]
    },
    {
      "cell_type": "markdown",
      "metadata": {
        "id": "k2bSMc3Dm4-b"
      },
      "source": [
        "<span style='background:yellow'>**Question 2.2.**</span> Write a function to calculate the proportion of unique words in the text"
      ]
    },
    {
      "cell_type": "code",
      "execution_count": 54,
      "metadata": {
        "for_assignment_type": "student",
        "id": "Rj8tIC3sm4-b"
      },
      "outputs": [],
      "source": [
        "def proportion_unique_words():\n",
        "    words = text.lower().split()\n",
        "\n",
        "    total_words = len(words)\n",
        "\n",
        "    unique_words = set(words)\n",
        "\n",
        "    count_unique = len(unique_words)\n",
        "\n",
        "    if total_words == 0:\n",
        "        return 0\n",
        "    else:\n",
        "        return count_unique / total_words"
      ]
    },
    {
      "cell_type": "code",
      "execution_count": 56,
      "metadata": {
        "id": "diOR3kzxm4-b",
        "colab": {
          "base_uri": "https://localhost:8080/"
        },
        "outputId": "7d1cd78b-2c45-45dc-a1aa-38701ea63d55"
      },
      "outputs": [
        {
          "output_type": "stream",
          "name": "stdout",
          "text": [
            "The proportion of unique words is: 0.1131538781739975\n"
          ]
        }
      ],
      "source": [
        "unique_prop = proportion_unique_words()\n",
        "print(f\"The proportion of unique words is: {unique_prop}\")"
      ]
    },
    {
      "cell_type": "markdown",
      "metadata": {
        "id": "ybLq3KASm4-b"
      },
      "source": [
        "We can also use `np.random.choice` to simulate multiple trials.\n",
        "\n",
        "<span style='background:yellow'>**Question 2.3.**</span> Write a function to simulate drawing random words and estimate the proportion of unique words"
      ]
    },
    {
      "cell_type": "code",
      "execution_count": 63,
      "metadata": {
        "for_assignment_type": "student",
        "id": "CB-yqaSkm4-b"
      },
      "outputs": [],
      "source": [
        "def estimate_unique_proportion(sample_size=10000):\n",
        "    all_words = text.lower().split()\n",
        "\n",
        "    random_sample = np.random.choice(all_words, sample_size)\n",
        "\n",
        "    total_words_in_sample = len(random_sample)\n",
        "\n",
        "    unique_words_in_sample = set(random_sample)\n",
        "    count_unique = len(unique_words_in_sample)\n",
        "\n",
        "    if total_words_in_sample == 0:\n",
        "        return 0\n",
        "    else:\n",
        "        return count_unique / total_words_in_sample"
      ]
    },
    {
      "cell_type": "code",
      "execution_count": 64,
      "metadata": {
        "id": "_Z3hiyNzm4-b",
        "colab": {
          "base_uri": "https://localhost:8080/"
        },
        "outputId": "105528ae-8291-409a-df74-f374dc611a78"
      },
      "outputs": [
        {
          "output_type": "stream",
          "name": "stdout",
          "text": [
            "The estimated proportion of unique words in a sample is: 0.3006\n"
          ]
        }
      ],
      "source": [
        "estimated_prop = estimate_unique_proportion(sample_size=10000)\n",
        "print(f\"The estimated proportion of unique words in a sample is: {estimated_prop}\")"
      ]
    },
    {
      "cell_type": "markdown",
      "metadata": {
        "id": "PxAs1pWvm4-c"
      },
      "source": [
        "## 3. Probability"
      ]
    },
    {
      "cell_type": "markdown",
      "metadata": {
        "id": "CHPQ2rP9m4-c"
      },
      "source": [
        "\n",
        "<span style='background:yellow'>**Question 3.1.**</span> Write a function to find the longest sentence in the text"
      ]
    },
    {
      "cell_type": "code",
      "execution_count": 67,
      "metadata": {
        "id": "CNHubY_wm4-c"
      },
      "outputs": [],
      "source": [
        "def find_longest_sentence():\n",
        "    standardized_text = text.replace('?', '.').replace('!', '.')\n",
        "\n",
        "    sentences = standardized_text.split('.')\n",
        "\n",
        "    longest_sentence = \"\"\n",
        "    max_word_count = -1\n",
        "\n",
        "    for sentence in sentences:\n",
        "        cleaned_sentence = sentence.strip()\n",
        "\n",
        "        words_in_sentence = cleaned_sentence.split()\n",
        "        current_word_count = len(words_in_sentence)\n",
        "\n",
        "        if current_word_count > max_word_count:\n",
        "            max_word_count = current_word_count\n",
        "            longest_sentence = cleaned_sentence + '.'\n",
        "\n",
        "    return longest_sentence"
      ]
    },
    {
      "cell_type": "code",
      "execution_count": 69,
      "metadata": {
        "id": "99SlPP_2m4-d",
        "colab": {
          "base_uri": "https://localhost:8080/"
        },
        "outputId": "6d550cad-0886-451a-accd-a35433439eb5"
      },
      "outputs": [
        {
          "output_type": "stream",
          "name": "stdout",
          "text": [
            "The longest sentence (by word count) is: ”\n",
            "\n",
            "Again among the tiers of shipping, in and out, avoiding rusty\n",
            "chain-cables frayed hempen hawsers and bobbing buoys, sinking for the\n",
            "moment floating broken baskets, scattering floating chips of wood and\n",
            "shaving, cleaving floating scum of coal, in and out, under the\n",
            "figure-head of the _John of Sunderland_ making a speech to the winds\n",
            "(as is done by many Johns), and the _Betsy of Yarmouth_ with a firm\n",
            "formality of bosom and her knobby eyes starting two inches out of her\n",
            "head; in and out, hammers going in ship-builders’ yards, saws going at\n",
            "timber, clashing engines going at things unknown, pumps going in leaky\n",
            "ships, capstans going, ships going out to sea, and unintelligible\n",
            "sea-creatures roaring curses over the bulwarks at respondent\n",
            "lightermen, in and out,—out at last upon the clearer river, where the\n",
            "ships’ boys might take their fenders in, no longer fishing in troubled\n",
            "waters with them over the side, and where the festooned sails might fly\n",
            "out to the wind.\n"
          ]
        }
      ],
      "source": [
        "longest_s = find_longest_sentence()\n",
        "\n",
        "print(f\"The longest sentence (by word count) is: {longest_s}\")"
      ]
    },
    {
      "cell_type": "markdown",
      "metadata": {
        "id": "WdqPk9Vxm4-d"
      },
      "source": [
        "<span style='background:yellow'>**Question 3.2.**</span> Write a function to compute a moving average of sentence lengths"
      ]
    },
    {
      "cell_type": "code",
      "execution_count": 70,
      "metadata": {
        "id": "YP2C1nAEm4-d"
      },
      "outputs": [],
      "source": [
        "def compute_moving_average(window_size=10):\n",
        "    standardized_text = text.replace('?', '.').replace('!', '.')\n",
        "    sentences = standardized_text.split('.')\n",
        "\n",
        "    sentence_lengths = make_array()\n",
        "    for sentence in sentences:\n",
        "        words = sentence.strip().split()\n",
        "        if len(words) > 0:\n",
        "            sentence_lengths = np.append(sentence_lengths, len(words))\n",
        "\n",
        "    moving_averages = make_array()\n",
        "\n",
        "    for i in range(window_size - 1, len(sentence_lengths)):\n",
        "        current_window = sentence_lengths[i - window_size + 1 : i + 1]\n",
        "\n",
        "        window_average = np.mean(current_window)\n",
        "\n",
        "        moving_averages = np.append(moving_averages, window_average)\n",
        "\n",
        "    return moving_averages"
      ]
    },
    {
      "cell_type": "code",
      "execution_count": 72,
      "metadata": {
        "id": "12ggoxjum4-d",
        "colab": {
          "base_uri": "https://localhost:8080/"
        },
        "outputId": "63992b67-3b9f-4b61-dba1-3e8299641499"
      },
      "outputs": [
        {
          "output_type": "stream",
          "name": "stdout",
          "text": [
            "Computed 11044 moving averages.\n"
          ]
        }
      ],
      "source": [
        "moving_avg_lengths = compute_moving_average(window_size=10)\n",
        "\n",
        "print(f\"Computed {len(moving_avg_lengths)} moving averages.\")"
      ]
    },
    {
      "cell_type": "markdown",
      "metadata": {
        "id": "7aRTZu3Tm4-d"
      },
      "source": [
        "<span style='background:yellow'>**Question 3.3.**</span> Write a function to simulate randomly selecting sentences and compute their average length\n",
        "\n",
        "\n"
      ]
    },
    {
      "cell_type": "code",
      "execution_count": 78,
      "metadata": {
        "id": "0iGuJ4Bmm4-d"
      },
      "outputs": [],
      "source": [
        "standardized_text_all = text.replace('?', '.').replace('!', '.')\n",
        "sentences_all = standardized_text_all.split('.')\n",
        "\n",
        "all_sentence_lengths = make_array()\n",
        "for sentence in sentences_all:\n",
        "    words = sentence.strip().split()\n",
        "    if len(words) > 0:\n",
        "        all_sentence_lengths = np.append(all_sentence_lengths, len(words))\n"
      ]
    },
    {
      "cell_type": "code",
      "execution_count": 79,
      "metadata": {
        "id": "MiGtj6f8m4-e",
        "colab": {
          "base_uri": "https://localhost:8080/"
        },
        "outputId": "ec95baf9-46b2-4d34-91fb-2e332add015c"
      },
      "outputs": [
        {
          "output_type": "stream",
          "name": "stdout",
          "text": [
            "Trial 1 Estimated Average Length: 16.68 words\n",
            "Trial 2 Estimated Average Length: 16.98 words\n",
            "Trial 3 Estimated Average Length: 17.27 words\n"
          ]
        }
      ],
      "source": [
        "def simulate_average_sentence_length(sample_size=500):\n",
        "\n",
        "    random_lengths = np.random.choice(all_sentence_lengths, sample_size)\n",
        "\n",
        "    return np.mean(random_lengths)\n",
        "\n",
        "trial1 = simulate_average_sentence_length(sample_size=500)\n",
        "trial2 = simulate_average_sentence_length(sample_size=500)\n",
        "trial3 = simulate_average_sentence_length(sample_size=500)\n",
        "\n",
        "print(f\"Trial 1 Estimated Average Length: {trial1:.2f} words\")\n",
        "print(f\"Trial 2 Estimated Average Length: {trial2:.2f} words\")\n",
        "print(f\"Trial 3 Estimated Average Length: {trial3:.2f} words\")"
      ]
    },
    {
      "cell_type": "markdown",
      "metadata": {
        "id": "4NJE3V6Om4-e"
      },
      "source": [
        "<span style='background:yellow'>**Question 3.4.**</span> Write a function to estimate probability of a sentence exceeding a given length"
      ]
    },
    {
      "cell_type": "code",
      "execution_count": 76,
      "metadata": {
        "id": "D_scTF-2m4-e"
      },
      "outputs": [],
      "source": [
        "def estimate_long_sentence_probability(length_threshold, sample_size=10000):\n",
        "    standardized_text = text.replace('?', '.').replace('!', '.')\n",
        "    sentences = standardized_text.split('.')\n",
        "\n",
        "    all_sentence_lengths = make_array()\n",
        "    for sentence in sentences:\n",
        "        words = sentence.strip().split()\n",
        "        if len(words) > 0:\n",
        "            all_sentence_lengths = np.append(all_sentence_lengths, len(words))\n",
        "\n",
        "    random_lengths = np.random.choice(all_sentence_lengths, sample_size)\n",
        "\n",
        "    is_long_sentence = random_lengths > length_threshold\n",
        "\n",
        "    number_of_successes = np.count_nonzero(is_long_sentence)\n",
        "\n",
        "    return number_of_successes / sample_size"
      ]
    },
    {
      "cell_type": "code",
      "execution_count": 77,
      "metadata": {
        "id": "Rj9XHqPQm4-e",
        "colab": {
          "base_uri": "https://localhost:8080/"
        },
        "outputId": "7b9fb769-ca57-4c8a-c9e3-78d380fe99aa"
      },
      "outputs": [
        {
          "output_type": "stream",
          "name": "stdout",
          "text": [
            "The estimated probability of a random sentence exceeding 30 words is: 0.1739\n"
          ]
        }
      ],
      "source": [
        "threshold = 30\n",
        "\n",
        "prob_estimate = estimate_long_sentence_probability(threshold, sample_size=10000)\n",
        "\n",
        "print(f\"The estimated probability of a random sentence exceeding {threshold} words is: {prob_estimate:.4f}\")"
      ]
    },
    {
      "cell_type": "markdown",
      "metadata": {
        "id": "xLKqxejMm4-e"
      },
      "source": [
        "Great job! You're finished with Assignment 4! Be sure to...\n",
        "\n",
        "* **run all the tests**,\n",
        "* **print the notebook as a PDF**,\n",
        "* and **submit both the notebook and the PDF to Canvas**."
      ]
    }
  ],
  "metadata": {
    "anaconda-cloud": {},
    "celltoolbar": "Edit Metadata",
    "kernelspec": {
      "display_name": "Python 3 (ipykernel)",
      "language": "python",
      "name": "python3"
    },
    "language_info": {
      "codemirror_mode": {
        "name": "ipython",
        "version": 3
      },
      "file_extension": ".py",
      "mimetype": "text/x-python",
      "name": "python",
      "nbconvert_exporter": "python",
      "pygments_lexer": "ipython3",
      "version": "3.11.4"
    },
    "colab": {
      "provenance": [],
      "include_colab_link": true
    }
  },
  "nbformat": 4,
  "nbformat_minor": 0
}