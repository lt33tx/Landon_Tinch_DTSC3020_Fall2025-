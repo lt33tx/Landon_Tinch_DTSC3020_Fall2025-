{
  "nbformat": 4,
  "nbformat_minor": 0,
  "metadata": {
    "colab": {
      "provenance": [],
      "include_colab_link": true
    },
    "kernelspec": {
      "name": "python3",
      "display_name": "Python 3"
    },
    "language_info": {
      "name": "python"
    }
  },
  "cells": [
    {
      "cell_type": "markdown",
      "metadata": {
        "id": "view-in-github",
        "colab_type": "text"
      },
      "source": [
        "<a href=\"https://colab.research.google.com/github/lt33tx/Landon_Tinch_DTSC3020_Fall2025-/blob/main/Student_In_Class_Assignment_Ch_7_(1).ipynb\" target=\"_parent\"><img src=\"https://colab.research.google.com/assets/colab-badge.svg\" alt=\"Open In Colab\"/></a>"
      ]
    },
    {
      "cell_type": "markdown",
      "source": [
        "#Write a Python program that simulates a self-checkout system.**\n",
        "Use this price list: prices: apple= 1 ,  bread= 2.5 ,  milk=5 ,  egg= 6\n",
        "\n",
        "Program requirements:\n",
        "\n",
        "The program should repeatedly ask the user to enter an item name or enter \"pay\".\n",
        "\n",
        "\n",
        "• Valid inputs are the names of the **items above ** or the word \"pay\".\n",
        "\n",
        "\n",
        "If the entered item exists in the price list:\n",
        "\n",
        "• Add its price to the running total.\n",
        "\n",
        "\n",
        "• Print the message: \"Added , running total: $\".\n",
        "\n",
        "\n",
        "If the entered item does not exist in the price list:\n",
        "\n",
        "• Print \"Item not found\".\n",
        "\n",
        "If the user types \"pay\":\n",
        "\n",
        "• Stop asking for input.\n",
        "\n",
        "Show the following three values:\n",
        "\n",
        "\n",
        "**Subtotal: the sum of all valid items entered.**\n",
        "\n",
        "**Tax: 8% of the subtotal. (0.08 * total)**\n",
        "\n",
        "**Final total: subtotal + tax.**\n",
        "\n",
        "\n",
        "Run your program with this purchase list. For example, for one person whose purchase is:apple, pizza, bread, pay *italicised text*"
      ],
      "metadata": {
        "id": "t1xs1X02Owtz"
      }
    },
    {
      "cell_type": "code",
      "execution_count": 11,
      "metadata": {
        "id": "nTH6mvq1OqHP",
        "colab": {
          "base_uri": "https://localhost:8080/"
        },
        "outputId": "4be43e45-8dd7-4743-951b-a859f307589d"
      },
      "outputs": [
        {
          "output_type": "stream",
          "name": "stdout",
          "text": [
            "--- Simple Self-Checkout ---\n",
            "Items: apple, bread, milk, egg. Type 'pay' to checkout.\n",
            "Enter item name: apple\n",
            "Added apple to the cart. Total: $1.00\n",
            "Enter item name: bread\n",
            "Added bread to the cart. Total: $3.50\n",
            "Enter item name: milk\n",
            "Added milk to the cart. Total: $8.50\n",
            "Enter item name: egg\n",
            "Added egg to the cart. Total: $14.50\n",
            "Enter item name: bob\n",
            "Item not found.\n",
            "Enter item name: pay\n",
            "\n",
            "Subtotal: $14.50\n",
            "Tax: $1.16\n",
            "Total: $15.66\n"
          ]
        }
      ],
      "source": [
        "# write your code here\n",
        "\n",
        "prices = {'apple': 1, 'bread': 2.5, 'milk': 5, 'egg': 6}\n",
        "\n",
        "total = 0.00\n",
        "tax_rate = 0.08\n",
        "\n",
        "print(\"--- Simple Self-Checkout ---\")\n",
        "print(\"Items: apple, bread, milk, egg. Type 'pay' to checkout.\")\n",
        "\n",
        "while True:\n",
        "    item = input(\"Enter item name: \").lower()\n",
        "\n",
        "    if item == 'pay':\n",
        "        break\n",
        "\n",
        "    if item in prices:\n",
        "        price = prices[item]\n",
        "        total += price\n",
        "        print(f\"Added {item} to the cart. Total: ${total:.2f}\")\n",
        "    else:\n",
        "        print(\"Item not found.\")\n",
        "\n",
        "subtotal = total\n",
        "tax = subtotal * tax_rate\n",
        "total = subtotal + tax\n",
        "print(f\"\\nSubtotal: ${subtotal:.2f}\")\n",
        "print(f\"Tax: ${tax:.2f}\")\n",
        "print(f\"Total: ${total:.2f}\")"
      ]
    },
    {
      "cell_type": "code",
      "source": [],
      "metadata": {
        "id": "twAGiizD0weG"
      },
      "execution_count": 1,
      "outputs": []
    }
  ]
}